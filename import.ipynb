{
 "cells": [
  {
   "cell_type": "code",
   "execution_count": 43,
   "metadata": {},
   "outputs": [],
   "source": [
    "\n",
    "import psycopg2\n",
    "from psycopg2 import sql\n",
    "from psycopg2.extensions import ISOLATION_LEVEL_AUTOCOMMIT # <-- ADD THIS LINE\n",
    "from psycopg2.extensions import AsIs, QuotedString\n",
    "import pandas as pd\n",
    "import psycopg2.extras\n",
    "import json\n",
    "import openai\n",
    "import os\n",
    "import yaml\n"
   ]
  },
  {
   "cell_type": "code",
   "execution_count": 44,
   "metadata": {},
   "outputs": [],
   "source": [
    "with open(\"config.yaml\", \"r\") as stream:\n",
    "    try:\n",
    "        PARAM = yaml.safe_load(stream)\n",
    "    except yaml.YAMLError as exc:\n",
    "        print(exc)\n",
    "\n",
    "openai.api_key  = PARAM['openai_api']\n",
    "client = openai.OpenAI(api_key = PARAM['openai_api'])\n",
    "\n",
    "def get_embedding(text, model=\"text-embedding-3-small\"):\n",
    "   text = text.replace(\"\\n\", \" \")\n",
    "   return client.embeddings.create(input = [text], model=model).data[0].embedding"
   ]
  },
  {
   "cell_type": "code",
   "execution_count": 45,
   "metadata": {},
   "outputs": [],
   "source": [
    "username = \"age\"\n",
    "password = \"AgeVector\"\n",
    "host = \"localhost\"\n",
    "db_name = 'drug'\n",
    "graph_name = \"drug_disorder\"\n",
    "\n"
   ]
  },
  {
   "cell_type": "code",
   "execution_count": 46,
   "metadata": {},
   "outputs": [
    {
     "name": "stdout",
     "output_type": "stream",
     "text": [
      "created database\n"
     ]
    }
   ],
   "source": [
    "## create a database\n",
    "\n",
    "\n",
    "\n",
    "con = psycopg2.connect(dbname=\"postgres\",\n",
    "      user=username, host=host,\n",
    "      password=password)\n",
    "\n",
    "con.set_isolation_level(ISOLATION_LEVEL_AUTOCOMMIT) # <-- ADD THIS LINE\n",
    "\n",
    "cur = con.cursor()\n",
    "\n",
    "cur.execute(f\"SELECT 1 FROM pg_catalog.pg_database WHERE datname = '{db_name}';\")\n",
    "\n",
    "exists = cur.fetchone()\n",
    "\n",
    "if not exists:\n",
    "    cur.execute(sql.SQL(\"CREATE DATABASE {}\").format(sql.Identifier(db_name)))\n",
    "    print (\"created database\")\n",
    "else:\n",
    "    print (\"database already exists\")\n",
    "    \n",
    "cur.close()\n"
   ]
  },
  {
   "cell_type": "code",
   "execution_count": 47,
   "metadata": {},
   "outputs": [
    {
     "name": "stdout",
     "output_type": "stream",
     "text": [
      "drug\n"
     ]
    }
   ],
   "source": [
    "\n",
    "\n",
    "connection = psycopg2.connect(database=db_name, user=username, password=password, host=host, port=5432)\n",
    "\n",
    "cur = connection.cursor()\n",
    "\n",
    "cur.execute(\"SELECT current_database();\")\n",
    "print (cur.fetchone()[0])\n"
   ]
  },
  {
   "cell_type": "code",
   "execution_count": 48,
   "metadata": {},
   "outputs": [],
   "source": [
    "cur.execute(\"\"\"\n",
    "                CREATE EXTENSION IF NOT EXISTS age;\n",
    "                LOAD 'age';\n",
    "                SET search_path = ag_catalog, \"$user\", public;\n",
    "               \"\"\")\n",
    "\n",
    "cur.execute(\"\"\"\n",
    "                CREATE EXTENSION vector;\n",
    "               \"\"\")"
   ]
  },
  {
   "cell_type": "code",
   "execution_count": 49,
   "metadata": {},
   "outputs": [],
   "source": [
    "\n",
    "cur.execute(\"\"\"CREATE TABLE IF NOT EXISTS Trials (\n",
    "            PostingID     INT NOT NULL PRIMARY KEY,\n",
    "            Sponsor    VARCHAR(1024),\n",
    "            StudyTitle     VARCHAR(2048),\n",
    "            Drug   VARCHAR(1024),\n",
    "            Disorder   VARCHAR(1024),\n",
    "            Phase   VARCHAR(512),\n",
    "            LinkToSponsorStudyRegistry   VARCHAR(2048),\n",
    "            LinkToClinicalTrials   VARCHAR(2048),\n",
    "            cui  text[],\n",
    "            PreferredUMLSName  text[],\n",
    "            StudyTitle_Tokens tsvector GENERATED ALWAYS AS (to_tsvector('english', StudyTitle)) STORED\n",
    "            );\"\"\")\n"
   ]
  },
  {
   "cell_type": "code",
   "execution_count": 50,
   "metadata": {},
   "outputs": [
    {
     "name": "stdout",
     "output_type": "stream",
     "text": [
      "[(1, 'GSK', 'U0289-401: An Evaluator Blinded, 8 Week, Split-Face Study to Evaluate and Compare the Efficacy and Tolerability of MAXCLARITY II and PROACTIV in Subjects with Acne', 'benzoyl peroxide/salicylic acid', 'Acne Vulgaris', 'Phase 4', 'https://www.gsk-studyregister.com/en/trial-details/?id=114550', 'http://clinicaltrials.gov/show/NCT01706250', ['C0005088', 'C0036079'], ['benzoyl peroxide', 'salicylic acid']), (3, 'GSK', 'GSK1550188, A randomised, single-blind, placebo controlled, dose ascending, single dose study to evaluate the safety, tolerability, pharmacokinetics, and pharmacodynamic of GSK1550188 in Japanese subjects with Systemic Lupus Erythematosus (SLE)', 'belimumab', 'Systemic Lupus Erythematosus', 'Phase 1', 'https://www.gsk-studyregister.com/en/trial-details/?id=114243', 'http://clinicaltrials.gov/show/NCT01381536', ['C1723401'], ['belimumab'])]\n"
     ]
    }
   ],
   "source": [
    "df = pd.read_csv(\"drugs/trials_umls.tsv\", sep='\\t', lineterminator='\\n')\n",
    "values = []\n",
    "\n",
    "for index, row in df.iterrows():\n",
    "    values.append((row[\"Posting ID\"], row[\"Sponsor\"], row[\"Study Title\"], row[\"Medicine or Vaccine (generic name)\"], row[\"Medical Condition\"], row[\"Phase\"], row[\"Link to Sponsor Study Registry\"], row[\"Link to study details on ClinicalTrials.gov (if available)\"], row[\"CUI_umls\"].split(\";\"), row[\"preferred_umls_name\"].split(\";\")))\n",
    "\n",
    "print (values[:2])"
   ]
  },
  {
   "cell_type": "code",
   "execution_count": 51,
   "metadata": {},
   "outputs": [],
   "source": [
    "\n",
    "psycopg2.extras.execute_batch(cur, \"INSERT INTO Trials (PostingID, Sponsor, StudyTitle, Drug, Disorder, Phase, LinkToSponsorStudyRegistry, LinkToClinicalTrials, cui, PreferredUMLSName) VALUES (%s,%s,%s,%s,%s,%s,%s,%s,%s,%s)\", values)\n",
    "\n",
    "query = sql.SQL(\"CREATE INDEX ts_idx ON Trials USING GIN (StudyTitle_Tokens);\")\n"
   ]
  },
  {
   "cell_type": "code",
   "execution_count": 52,
   "metadata": {},
   "outputs": [
    {
     "name": "stdout",
     "output_type": "stream",
     "text": [
      "(1, 'GSK', 'U0289-401: An Evaluator Blinded, 8 Week, Split-Face Study to Evaluate and Compare the Efficacy and Tolerability of MAXCLARITY II and PROACTIV in Subjects with Acne', 'benzoyl peroxide/salicylic acid', 'Acne Vulgaris', 'Phase 4', 'https://www.gsk-studyregister.com/en/trial-details/?id=114550', 'http://clinicaltrials.gov/show/NCT01706250', ['C0005088', 'C0036079'], ['benzoyl peroxide', 'salicylic acid'], \"'-401':2 '8':6 'acn':28 'blind':5 'compar':15 'efficaci':17 'evalu':4,13 'face':10 'ii':22 'maxclar':21 'proactiv':24 'split':9 'split-fac':8 'studi':11 'subject':26 'toler':19 'u0289':1 'week':7\")\n",
      "(3, 'GSK', 'GSK1550188, A randomised, single-blind, placebo controlled, dose ascending, single dose study to evaluate the safety, tolerability, pharmacokinetics, and pharmacodynamic of GSK1550188 in Japanese subjects with Systemic Lupus Erythematosus (SLE)', 'belimumab', 'Systemic Lupus Erythematosus', 'Phase 1', 'https://www.gsk-studyregister.com/en/trial-details/?id=114243', 'http://clinicaltrials.gov/show/NCT01381536', ['C1723401'], ['belimumab'], \"'ascend':10 'blind':6 'control':8 'dose':9,12 'erythematosus':30 'evalu':15 'gsk1550188':1,23 'japanes':25 'lupus':29 'pharmacodynam':21 'pharmacokinet':19 'placebo':7 'randomis':3 'safeti':17 'singl':5,11 'single-blind':4 'sle':31 'studi':13 'subject':26 'system':28 'toler':18\")\n",
      "(4, 'GSK', 'A Multicenter, Randomized, Double-Blind, Phase 3 Study of the Safety and Efficacy of Emulsion Formulation U0267, versus Vehicle in Subjects with Plaque-type Psoriasis', 'calcipotriol, calcipotriene', 'Psoriasis', 'Phase 3', 'https://www.gsk-studyregister.com/en/trial-details/?id=114741', 'http://clinicaltrials.gov/show/NCT00688519', ['C0065767'], ['calcipotriene'], \"'3':8 'blind':6 'doubl':5 'double-blind':4 'efficaci':14 'emuls':16 'formul':17 'multicent':2 'phase':7 'plaqu':25 'plaque-typ':24 'psoriasi':27 'random':3 'safeti':12 'studi':9 'subject':22 'type':26 'u0267':18 'vehicl':20 'versus':19\")\n",
      "(8, 'GSK', 'Two-week Study to Determine and Compare the Tolerance and Irritation Potential of Duac® Topical Gel (clindamycin 1% and benzoyl peroxide 5%) to ACANYA™ Gel (clindamycin phosphate 1.2% and benzoyl peroxide 2.5%) Topical Acne Medications', 'benzoyl peroxide/clindamycin phosphate', 'Acne Vulgaris', 'Phase 4', 'https://www.gsk-studyregister.com/en/trial-details/?id=114546', 'http://clinicaltrials.gov/show/NCT01015638', ['C0005088', 'C0055881'], ['benzoyl peroxide', 'clindamycin phosphate'], \"'1':19 '1.2':29 '2.5':33 '5':23 'acanya':25 'acn':35 'benzoyl':21,31 'clindamycin':18,27 'compar':8 'determin':6 'duac':15 'gel':17,26 'irrit':12 'medic':36 'peroxid':22,32 'phosphat':28 'potenti':13 'studi':4 'toler':10 'topic':16,34 'two':2 'two-week':1 'week':3\")\n",
      "(9, 'GSK', 'A single-blind, randomized, comparative split-face study evaluating the tolerability of clindamycin and benzoyl peroxide gel to benzoyl peroxide/adapalene gel in the treatment of acne vulgaris.', 'benzoyl peroxide/clindamycin phosphate', 'Acne Vulgaris', 'Phase 4', 'https://www.gsk-studyregister.com/en/trial-details/?id=114547', 'http://clinicaltrials.gov/show/NCT00964223', ['C0005088', 'C0055881'], ['benzoyl peroxide', 'clindamycin phosphate'], \"'acn':28 'benzoyl':17,21 'blind':4 'clindamycin':15 'compar':6 'evalu':11 'face':9 'gel':19,23 'peroxid':18 'peroxide/adapalene':22 'random':5 'singl':3 'single-blind':2 'split':8 'split-fac':7 'studi':10 'toler':13 'treatment':26 'vulgari':29\")\n"
     ]
    }
   ],
   "source": [
    "cur.execute(\"\"\"SELECT * FROM Trials LIMIT 5;\"\"\")\n",
    "\n",
    "record = cur.fetchall()\n",
    "\n",
    "for r in record:\n",
    "    print(r)"
   ]
  },
  {
   "cell_type": "code",
   "execution_count": 53,
   "metadata": {},
   "outputs": [
    {
     "name": "stdout",
     "output_type": "stream",
     "text": [
      "(2179,)\n"
     ]
    }
   ],
   "source": [
    "cur.execute(\"\"\"SELECT COUNT(*) FROM Trials;\"\"\")\n",
    "\n",
    "record = cur.fetchall()\n",
    "\n",
    "for r in record:\n",
    "    print(r)"
   ]
  },
  {
   "cell_type": "code",
   "execution_count": 54,
   "metadata": {},
   "outputs": [],
   "source": [
    "#cur.execute(f\"SELECT create_graph('{graph_name}');\")\n",
    "\n",
    "query = sql.SQL(\"SELECT create_graph('drug_disorder');\")\n",
    "cur.execute(query)\n",
    "\n"
   ]
  },
  {
   "cell_type": "code",
   "execution_count": 55,
   "metadata": {},
   "outputs": [],
   "source": [
    "# query = sql.SQL(\"select {field} from {table} where {pkey} = %s\").format(\n",
    "#     field=sql.Identifier('my_name'),\n",
    "#     table=sql.Identifier('some_table'),\n",
    "#     pkey=sql.Identifier('id'))"
   ]
  },
  {
   "cell_type": "code",
   "execution_count": 56,
   "metadata": {},
   "outputs": [],
   "source": [
    "cur.execute(\"\"\"CREATE TABLE IF NOT EXISTS Disorder_vector (\n",
    "            cui     VARCHAR(1024),\n",
    "            definitionEmbedding  vector(1536)\n",
    "            );\"\"\")"
   ]
  },
  {
   "cell_type": "code",
   "execution_count": 57,
   "metadata": {},
   "outputs": [],
   "source": [
    "\n",
    "for line in open(\"drugs/disease_4_embedding.json\", \"r\"):\n",
    "    value = json.loads(line)\n",
    "    #print (value[\"cui\"])\n",
    "    d = \"\"\n",
    "    if \"definition\" not in value or value[\"definition\"] is None:\n",
    "        d = \"\"\n",
    "    else:\n",
    "        d = value[\"definition\"].replace('\"', \"'\")  \n",
    "\n",
    "    #cur.execute(\"SELECT * FROM cypher(%s, $$MERGE (:Disorder {cui: %s, name: %s, definition: %s}) $$) as (n agtype);\", (graph_name, QuotedString(value[\"cui\"]), QuotedString(value.get(\"name\", \"\")).getquoted(), QuotedString(d)))\n",
    "    # query = f\"\"\"SELECT * FROM cypher('{graph_name}', \n",
    "    # $$MERGE (:Disorder {{cui: {value[\"cui\"].replace('\"', '')}, name: {value.get(\"name\", \"\").replace('\"', '').replace(\"'\", \"''\")}, definition: {d}}}) $$)\n",
    "    # as (n agtype);\"\"\"\n",
    "\n",
    "    \n",
    "    query = sql.SQL(\"SELECT * FROM cypher('drug_disorder', $$MERGE (:Disorder {{cui: {cui}, name: {name}, definition: {definition} }}) $$) as (n agtype);\").format(\n",
    "        cui = sql.Identifier(value[\"cui\"]),\n",
    "        name = sql.Identifier(value[\"name\"]),\n",
    "        definition = sql.Identifier(d)\n",
    "    )\n",
    "    cur.execute(query)\n",
    "\n",
    "    if \"definitionEmbedding\"  in value and len(value[\"definitionEmbedding\"]) > 0:\n",
    "        cur.execute(\"INSERT INTO Disorder_vector (cui, definitionEmbedding) VALUES (%s,%s)\", (value[\"cui\"], value[\"definitionEmbedding\"]))\n",
    "\n",
    "\n",
    "    #query = \"SELECT * FROM cypher('drug_disorder', $$MERGE (:Disorder {cui: %s, name: %s, definition: %s}) $$) as (n agtype);\"\n",
    "\n",
    "    #cur.execute(query, (value[\"cui\"], value[\"name\"].replace(\"'\", \"\\\\'\"), d))\n",
    "\n",
    "    #psycopg2.extras.execute_batch(cur, \"SELECT * FROM cypher('drug_disorder', $$MERGE (:Disorder {cui: %s, name: %s, definition: %s }) $$) as (n agtype);\", [value[\"cui\"], value[\"name\"], d])\n",
    "\n",
    "\n",
    "#query = f\"\"\"SELECT * FROM cypher('{graph_name}', \n",
    "#    $$CREATE CONSTRAINT FOR (n:Disorder) REQUIRE n.cui IS UNIQUE $$)\n",
    "#    as (n agtype);\"\"\"\n",
    "\n",
    "\n",
    "#cur.execute(query)\n"
   ]
  },
  {
   "cell_type": "code",
   "execution_count": 58,
   "metadata": {},
   "outputs": [],
   "source": [
    "for line in open(\"drugs/drugs_4.json\", \"r\"):\n",
    "    value = json.loads(line)\n",
    "    #print (value)\n",
    "    # query = f\"\"\"SELECT * FROM cypher('{graph_name}', \n",
    "    # $$MERGE (:Drug {{cui: {value[\"cui\"].replace('\"', '')}, name: {value.get(\"name\", \"\").replace('\"', '').replace(\"'\", \"''\")}}}) $$)\n",
    "    # as (n agtype);\"\"\"\n",
    "\n",
    "    query = sql.SQL(\"SELECT * FROM cypher('drug_disorder', $$MERGE (:Drug {{cui: {cui}, name: {name} }}) $$) as (n agtype);\").format(\n",
    "        cui = sql.Identifier(value[\"cui\"]),\n",
    "        name = sql.Identifier(value[\"name\"]),\n",
    "    )\n",
    "    cur.execute(query)\n",
    "\n",
    "# query = f\"\"\"SELECT * FROM cypher('{graph_name}', \n",
    "#     $$CREATE CONSTRAINT ON (n:Drug) ASSERT n.cui IS UNIQUE; $$)\n",
    "#     as (n agtype);\"\"\"\n",
    "\n",
    "# cur.execute(query)"
   ]
  },
  {
   "cell_type": "code",
   "execution_count": 59,
   "metadata": {},
   "outputs": [],
   "source": [
    "df = pd.read_csv(\"drugs/moa_3.tsv\", sep='\\t', lineterminator='\\n')\n",
    "\n",
    "for index, row in df.iterrows():\n",
    "    #values.append((row[\"id\"], row[\"name\"]))\n",
    "\n",
    "    # query = f\"\"\"SELECT * FROM cypher('{graph_name}', \n",
    "    # $$MERGE (:MOA {{moa_id: '{row[\"id\"].replace('\"', '')}', name: \\\"{row[\"name\"].replace('\"', '')}\\\"}}) $$)\n",
    "    # as (n agtype);\"\"\"\n",
    "\n",
    "    query = sql.SQL(\"SELECT * FROM cypher('drug_disorder', $$MERGE (:MOA {{moa_id: {moa_id}, name: {name} }}) $$) as (n agtype);\").format(\n",
    "        moa_id = sql.Identifier(row[\"id\"]),\n",
    "        name = sql.Identifier(row[\"name\"]),\n",
    "    )\n",
    "    cur.execute(query)\n",
    "\n",
    "# query = f\"\"\"SELECT * FROM cypher('{graph_name}', \n",
    "#     $$CREATE CONSTRAINT ON (n:MOA) ASSERT n.moa_id IS UNIQUE; $$)\n",
    "#     as (n agtype);\"\"\"\n",
    "\n",
    "# cur.execute(query)"
   ]
  },
  {
   "cell_type": "code",
   "execution_count": 60,
   "metadata": {},
   "outputs": [],
   "source": [
    "df = pd.read_csv(\"drugs/cui_indication_3.tsv\", sep='\\t', lineterminator='\\n')\n",
    "\n",
    "for index, row in df.iterrows():\n",
    "    #values.append((row[\"from\"], row[\"to\"]))\n",
    "\n",
    "    # query = f\"\"\"\n",
    "    #     SELECT * FROM cypher('{graph_name}', $$ MERGE (a:Drug {{cui: '{row[\"from\"].replace('\"', '')}'}}) MERGE (b:Disorder {{cui: '{row[\"to\"].replace('\"', '')}'}}) MERGE (a)-[e:MAY_TREAT]->(b) RETURN e $$) as (e agtype);\n",
    "    # \"\"\"\n",
    "\n",
    "    query = sql.SQL(\"SELECT * FROM cypher('drug_disorder', $$MERGE (a:Drug {{cui: {from_id} }}) MERGE (b:Disorder {{cui: {to_id}}}) MERGE (a)-[e:MAY_TREAT]->(b) RETURN e $$) as (e agtype);\").format(\n",
    "        from_id = sql.Identifier(row[\"from\"]),\n",
    "        to_id = sql.Identifier(row[\"to\"]),\n",
    "    )\n",
    "\n",
    "    cur.execute(query)"
   ]
  },
  {
   "cell_type": "code",
   "execution_count": 61,
   "metadata": {},
   "outputs": [],
   "source": [
    "df = pd.read_csv(\"drugs/cui_moa_3.tsv\", sep='\\t', lineterminator='\\n')\n",
    "\n",
    "for index, row in df.iterrows():\n",
    "    #values.append((row[\"from\"], row[\"to\"]))\n",
    "\n",
    "    # query = f\"\"\"\n",
    "    #     SELECT * FROM cypher('{graph_name}', $$ MERGE (a:Drug {{cui: '{row[\"from\"].replace('\"', '')}'}}) MERGE (b:MOA {{moa_id: '{row[\"to\"].replace('\"', '')}'}}) MERGE (a)-[e:HAS_MOA]->(b) RETURN e $$) as (e agtype);\n",
    "    # \"\"\"\n",
    "\n",
    "    query = sql.SQL(\"SELECT * FROM cypher('drug_disorder', $$MERGE (a:Drug {{cui: {from_id} }}) MERGE (b:MOA {{moa_id: {to_id}}}) MERGE (a)-[e:HAS_MOA]->(b) RETURN e $$) as (e agtype);\").format(\n",
    "        from_id = sql.Identifier(row[\"from\"]),\n",
    "        to_id = sql.Identifier(row[\"to\"]),\n",
    "    )\n",
    "\n",
    "    cur.execute(query)"
   ]
  },
  {
   "cell_type": "code",
   "execution_count": 62,
   "metadata": {},
   "outputs": [],
   "source": [
    "#psycopg2.extras.execute_batch(cur, \"INSERT INTO trials (PostingID, Sponsor, StudyTitle, Drug, Disorder, Phase, LinkToSponsorStudyRegistry, LinkToClinicalTrials, cui, PreferredUMLSName) VALUES (%s,%s,%s,%s,%s,%s,%s,%s,%s,%s)\", values)\n"
   ]
  },
  {
   "cell_type": "code",
   "execution_count": 63,
   "metadata": {},
   "outputs": [],
   "source": [
    "connection.commit()"
   ]
  },
  {
   "cell_type": "code",
   "execution_count": 64,
   "metadata": {},
   "outputs": [
    {
     "name": "stdout",
     "output_type": "stream",
     "text": [
      "('{\"id\": 844424930131969, \"label\": \"Disorder\", \"properties\": {\"cui\": \"C0023321\", \"name\": \"Lentigo\", \"definition\": \"Small circumscribed melanoses resembling, but differing histologically from, freckles. The concept includes senile lentigo (\\'liver spots\\') and nevoid lentigo (nevus spilus, lentigo simplex) and may also occur in association with multiple congenital defects or congenital syndromes (e.g., Peutz-Jeghers syndrome).\"}}::vertex', '{\"id\": 1688849860263937, \"label\": \"MAY_TREAT\", \"end_id\": 844424930131969, \"start_id\": 1125899906842625, \"properties\": {}}::edge', '{\"id\": 1125899906842625, \"label\": \"Drug\", \"properties\": {\"cui\": \"C0048318\", \"name\": \"mequinol\"}}::vertex')\n",
      "('{\"id\": 844424930131970, \"label\": \"Disorder\", \"properties\": {\"cui\": \"C0021400\", \"name\": \"Influenza\", \"definition\": \"An acute viral infection in humans involving the respiratory tract. It is marked by inflammation of the NASAL MUCOSA; the PHARYNX; and conjunctiva, and by headache and severe, often generalized, myalgia.\"}}::vertex', '{\"id\": 1688849860263938, \"label\": \"MAY_TREAT\", \"end_id\": 844424930131970, \"start_id\": 1125899906842626, \"properties\": {}}::edge', '{\"id\": 1125899906842626, \"label\": \"Drug\", \"properties\": {\"cui\": \"C0035629\", \"name\": \"rimantadine\"}}::vertex')\n",
      "('{\"id\": 844424930131970, \"label\": \"Disorder\", \"properties\": {\"cui\": \"C0021400\", \"name\": \"Influenza\", \"definition\": \"An acute viral infection in humans involving the respiratory tract. It is marked by inflammation of the NASAL MUCOSA; the PHARYNX; and conjunctiva, and by headache and severe, often generalized, myalgia.\"}}::vertex', '{\"id\": 1688849860264516, \"label\": \"MAY_TREAT\", \"end_id\": 844424930131970, \"start_id\": 1125899906842944, \"properties\": {}}::edge', '{\"id\": 1125899906842944, \"label\": \"Drug\", \"properties\": {\"cui\": \"C0874161\", \"name\": \"oseltamivir\"}}::vertex')\n",
      "('{\"id\": 844424930131970, \"label\": \"Disorder\", \"properties\": {\"cui\": \"C0021400\", \"name\": \"Influenza\", \"definition\": \"An acute viral infection in humans involving the respiratory tract. It is marked by inflammation of the NASAL MUCOSA; the PHARYNX; and conjunctiva, and by headache and severe, often generalized, myalgia.\"}}::vertex', '{\"id\": 1688849860268421, \"label\": \"MAY_TREAT\", \"end_id\": 844424930131970, \"start_id\": 1125899906845644, \"properties\": {}}::edge', '{\"id\": 1125899906845644, \"label\": \"Drug\", \"properties\": {\"cui\": \"C1675326\", \"name\": \"peramivir\"}}::vertex')\n",
      "('{\"id\": 844424930131970, \"label\": \"Disorder\", \"properties\": {\"cui\": \"C0021400\", \"name\": \"Influenza\", \"definition\": \"An acute viral infection in humans involving the respiratory tract. It is marked by inflammation of the NASAL MUCOSA; the PHARYNX; and conjunctiva, and by headache and severe, often generalized, myalgia.\"}}::vertex', '{\"id\": 1688849860268815, \"label\": \"MAY_TREAT\", \"end_id\": 844424930131970, \"start_id\": 1125899906845981, \"properties\": {}}::edge', '{\"id\": 1125899906845981, \"label\": \"Drug\", \"properties\": {\"cui\": \"C0002403\", \"name\": \"amantadine\"}}::vertex')\n"
     ]
    }
   ],
   "source": [
    "cur.execute(f\"\"\"\n",
    "SELECT * FROM cypher('{graph_name}', $$\n",
    "        MATCH (V)-[R]-(V2)\n",
    "        RETURN V,R,V2 LIMIT 5\n",
    "$$) as (V agtype, R agtype, V2 agtype);\n",
    "\"\"\")\n",
    "\n",
    "record = cur.fetchall()\n",
    "\n",
    "for r in record:\n",
    "        print(r)"
   ]
  },
  {
   "cell_type": "code",
   "execution_count": 65,
   "metadata": {},
   "outputs": [
    {
     "name": "stdout",
     "output_type": "stream",
     "text": [
      "('C0022408',)\n",
      "('C0949691',)\n",
      "('C0026857',)\n",
      "('C0035435',)\n",
      "('C0152087',)\n"
     ]
    }
   ],
   "source": [
    "question = \"joint-related disorders\"\n",
    "\n",
    "question_embedding = get_embedding(question)\n",
    "\n",
    "#SELECT * FROM items ORDER BY embedding <-> '[3,1,2]' LIMIT 5;\n",
    "\n",
    "cur.execute(f\"\"\"\n",
    "SELECT cui FROM Disorder_vector ORDER BY definitionEmbedding <=> '{question_embedding}' LIMIT 5;\n",
    "\"\"\")\n",
    "\n",
    "record = cur.fetchall()\n",
    "\n",
    "for r in record:\n",
    "        print(r)"
   ]
  },
  {
   "cell_type": "code",
   "execution_count": 66,
   "metadata": {},
   "outputs": [
    {
     "name": "stdout",
     "output_type": "stream",
     "text": [
      "('C0035435', 'C0063077', 'hydrocortisone acetate', 'C0035435', 'Rheumatism')\n",
      "('C0035435', 'C0113286', 'dexamethasone sodium phosphate', 'C0035435', 'Rheumatism')\n",
      "('C0035435', 'C0032950', 'prednisolone', 'C0035435', 'Rheumatism')\n",
      "('C0035435', 'C0032952', 'prednisone', 'C0035435', 'Rheumatism')\n",
      "('C0035435', 'C0030817', 'penicillamine', 'C0035435', 'Rheumatism')\n",
      "('C0035435', 'C0040866', 'triamcinolone acetonide', 'C0035435', 'Rheumatism')\n",
      "('C0035435', 'C0071839', 'prednisolone acetate', 'C0035435', 'Rheumatism')\n",
      "('C0035435', 'C0025815', 'methylprednisolone', 'C0035435', 'Rheumatism')\n",
      "('C0035435', 'C0063076', 'hydrocortisone buteprate', 'C0035435', 'Rheumatism')\n",
      "('C0035435', 'C0020336', 'hydroxychloroquine', 'C0035435', 'Rheumatism')\n",
      "('C0035435', 'C0010583', 'cyclophosphamide', 'C0035435', 'Rheumatism')\n",
      "('C0035435', 'C0174938', 'methylprednisolone aceponate', 'C0035435', 'Rheumatism')\n",
      "('C0035435', 'C0010137', 'cortisone', 'C0035435', 'Rheumatism')\n",
      "('C0035435', 'C0011777', 'dexamethasone', 'C0035435', 'Rheumatism')\n",
      "('C0035435', 'C0063041', 'leflunomide', 'C0035435', 'Rheumatism')\n",
      "('C0022408', 'C0009077', 'cloxacillin', 'C0022408', 'Arthropathy')\n",
      "('C0035435', 'C0082944', 'hydrocortisone aceponate', 'C0035435', 'Rheumatism')\n",
      "('C0035435', 'C0020268', 'hydrocortisone', 'C0035435', 'Rheumatism')\n",
      "('C0035435', 'C0057598', 'dexamethasone acetate', 'C0035435', 'Rheumatism')\n",
      "('C0035435', 'C0352536', 'hydrocortisone butyrate', 'C0035435', 'Rheumatism')\n",
      "('C0035435', 'C0770560', 'hydrocortisone sodium succinate', 'C0035435', 'Rheumatism')\n",
      "('C0035435', 'C0001655', 'corticotropin', 'C0035435', 'Rheumatism')\n",
      "('C0022408', 'C0065295', 'loracarbef', 'C0022408', 'Arthropathy')\n",
      "('C0035435', 'C0596007', 'hydroxychloroquine sulfate', 'C0035435', 'Rheumatism')\n",
      "('C0035435', 'C0040864', 'triamcinolone', 'C0035435', 'Rheumatism')\n"
     ]
    }
   ],
   "source": [
    "question = \"joint-related disorders\"\n",
    "\n",
    "question_embedding = get_embedding(question)\n",
    "\n",
    "#SELECT * FROM items ORDER BY embedding <-> '[3,1,2]' LIMIT 5;\n",
    "\n",
    "# cur.execute(f\"\"\"\n",
    "# WITH joint_related_disorders AS (\n",
    "#     SELECT cui FROM disoder_vector ORDER BY definitionEmbedding <=> '{question_embedding}' LIMIT 5\n",
    "# ), drug_for_disorder AS(\n",
    "#     SELECT drug_name, drug_cui, disorder_name, disorder_cui FROM (SELECT * FROM cypher('drug_disorder', $$ MATCH (d:Drug)-[:MAY_TREAT]->(di:Disorder) RETURN DISTINCT d.cui, d.name, di.cui, di.name $$) as (drug_cui TEXT, drug_name TEXT, disorder_cui TEXT, disorder_name TEXT))\n",
    "# )\n",
    "\n",
    "# SELECT * FROM joint_related_disorders, drug_for_disorder WHERE joint_related_disorders.cui = drug_for_disorder.disorder_cui;\n",
    "# \"\"\")\n",
    "\n",
    "cur.execute(f\"\"\"\n",
    "WITH joint_related_disorders AS (\n",
    "    SELECT cui FROM Disorder_vector ORDER BY definitionEmbedding <=> '{question_embedding}' LIMIT 5\n",
    "), drug_for_disorder AS(\n",
    "    SELECT * FROM cypher('drug_disorder', $$ MATCH (d:Drug)-[:MAY_TREAT]->(di:Disorder) RETURN DISTINCT d.cui, d.name, di.cui, di.name $$) as (drug_cui TEXT, drug_name TEXT, disorder_cui TEXT, disorder_name TEXT)\n",
    ")\n",
    "\n",
    "SELECT * FROM joint_related_disorders, drug_for_disorder WHERE joint_related_disorders.cui = drug_for_disorder.disorder_cui;\n",
    "\"\"\")\n",
    "\n",
    "record = cur.fetchall()\n",
    "\n",
    "for r in record:\n",
    "        print(r)"
   ]
  },
  {
   "cell_type": "code",
   "execution_count": 67,
   "metadata": {},
   "outputs": [],
   "source": [
    "connection.commit()"
   ]
  },
  {
   "cell_type": "code",
   "execution_count": 68,
   "metadata": {},
   "outputs": [
    {
     "name": "stdout",
     "output_type": "stream",
     "text": [
      "Data from Database:-  [(['C0005088', 'C0036079'],), (['C1723401'],), (['C0065767'],)]\n"
     ]
    }
   ],
   "source": [
    "cur.execute(f\"\"\"\n",
    "SELECT cui FROM trials LIMIT 3;\n",
    "\"\"\")\n",
    "\n",
    "record = cur.fetchall()\n",
    "\n",
    "print(\"Data from Database:- \", record)"
   ]
  },
  {
   "cell_type": "code",
   "execution_count": 69,
   "metadata": {},
   "outputs": [
    {
     "name": "stdout",
     "output_type": "stream",
     "text": [
      "Data from Database:-  [('C0048318',), ('C0035629',), ('C0027603',)]\n"
     ]
    }
   ],
   "source": [
    "cur.execute(f\"\"\"\n",
    "SELECT cui FROM cypher('drug_disorder', $$\n",
    "        MATCH (d:Drug) RETURN d.cui LIMIT 3\n",
    "$$) as (cui text);\n",
    "\"\"\")\n",
    "\n",
    "record = cur.fetchall()\n",
    "\n",
    "print(\"Data from Database:- \", record)"
   ]
  },
  {
   "cell_type": "code",
   "execution_count": 70,
   "metadata": {},
   "outputs": [
    {
     "name": "stdout",
     "output_type": "stream",
     "text": [
      "('C4043101', 'aducanumab')\n",
      "('C0949312', 'galantamine hydrobromide')\n",
      "('C0042291', 'valproic acid')\n",
      "('C2697594', 'alpha-tocopherol succinate, D-')\n",
      "('C0042874', 'tocopherol')\n",
      "('C0078375', 'alpha-tocopherol succinate')\n",
      "('C5242453', 'lecanemab')\n",
      "('C1323100', 'tocopherol,DL-alpha')\n",
      "('C0036579', 'selegiline')\n",
      "('C0016967', 'galantamine')\n",
      "('C0771848', 'donepezil hydrochloride')\n",
      "('C0772415', 'rivastigmine tartrate')\n",
      "('C0994472', 'dl-alpha tocopheryl acetate')\n",
      "('C0527316', 'donepezil')\n",
      "('C0025242', 'memantine')\n",
      "('C0039245', 'tacrine')\n",
      "('C0771988', 'memantine hydrochloride')\n",
      "('C0649350', 'rivastigmine')\n",
      "('C0078373', 'tocopherol acetate')\n",
      "('C2697593', 'd-alpha-tocopheryl acetate')\n"
     ]
    }
   ],
   "source": [
    "query = f\"\"\"\n",
    "SELECT * FROM cypher('drug_disorder', $$\n",
    "  MATCH (d:Drug)-[:MAY_TREAT]->(di:Disorder) \n",
    "  WHERE di.name = \"Alzheimer's Disease\" \n",
    "  RETURN DISTINCT d.cui, d.name\n",
    "$$) as (drug_cui TEXT, drug_name TEXT);\n",
    "\"\"\"\n",
    "\n",
    "cur.execute(query)\n",
    "\n",
    "record = cur.fetchall()\n",
    "\n",
    "for r in record:\n",
    "    print(r)"
   ]
  },
  {
   "cell_type": "code",
   "execution_count": 71,
   "metadata": {},
   "outputs": [
    {
     "name": "stdout",
     "output_type": "stream",
     "text": [
      "('A Multi-Center, Randomized, Double-Blind, Parallel Group Study With 3 Groups Receiving Placebo, 5 mg of E2020 and 10 mg of E2020', 'donepezil')\n",
      "(\"Clinical efficacy and safety of donepezil on cognitive and global function in patients with Alzheimer's disease. A 24-week, multicenter, double-blind, placebo-controlled study in Japan.\", 'donepezil')\n",
      "(\"A Preliminary, Multi-Center, Randomized, Double-Blind, Placebo-Controlled Evaluation of the Safety and Efficacy of E2020 in Patients with Alzheimer's Disease.\", 'donepezil')\n",
      "(\"A 15-week, Multi-Center, Randomized, Double-Blind, Placebo-Controlled Evaluation of the Safety and Efficacy of E2020 in Patients with Alzheimer's Disease.\", 'donepezil')\n",
      "(\"A 30-Week, Multi-Center, Randomized, Double-Blind, Placebo-Controlled Evaluation of the Safety and Efficacy of E2020 in Patients with Alzheimer's Disease.\", 'donepezil')\n",
      "(\"A 30-Week, Multi-Center, Randomized, Double-Blind, Placebo-Controlled Evaluation of the Safety and Efficacy of E2020 in Patients with Alzheimer's Disease.\", 'donepezil')\n",
      "(\"A 24 Week, Multicenter, Randomized, Double-Blind, Placebo-Controlled Evaluation of the Safety and Efficacy of Donepezil Hydrochloride (E2020) in Patients With Severe Alzheimer's Disease Followed by a 12 Week Open-Label Extension Period\", 'donepezil')\n",
      "(\"A Randomized, Double-Blind, Placebo-Controlled Evaluation of the Effects of Donepezil Hydrochloride (E2020) in the Management of Patients with Alzheimer's Disease in a Nursing Home Facility.\", 'donepezil')\n",
      "(\"A 54-week, Randomized, Double-Blind, Placebo-Controlled Evaluation of the Effects of Donepezil Hydrochloride (E2020) on Functional Outcomes in Patients with Alzheimer's Disease.\", 'donepezil')\n",
      "(\"Comparison of 23 mg Donepezil Sustained Release (SR) to 10 mg Donepezil Immediate Release (IR) in Patients With Moderate to Severe Alzheimer's Disease\", 'donepezil')\n",
      "(\"A 24-weeks, Multi-center, Randomized, Double-blind, Placebo Controlled Study to Evaluate the Efficacy and Safety of Donepezil Hydrochloride in Chinese Subjects With Severe Alzheimer's Disease\", 'donepezil')\n",
      "(\"The Efficacy, Tolerability and Safety of Donepezil (Aricept) in Parkinson's Disease Patients With Dementia\", 'donepezil')\n",
      "('Double-blind Study of E2020 in Patients With Dementia With Lewy Bodies - Phase II', 'donepezil')\n",
      "('A Multicenter, Randomized, Double-blind, Parallel-group, Placebo-controlled Study of E2020 in Patients With Dementia With Lewy Bodies (DLB), Followed by a Long-term Extension Phase', 'donepezil')\n",
      "(\"A 24-week, Multicenter, Randomized, Double-blind, Placebo-controlled, Parallel-group, Dose-finding Evaluation of the Efficacy, Safety, and Tolerability of the Once-daily Rivastigmine Transdermal Patch in Patients With Probable Alzheimer's Disease (MMSE 10-20)\", 'rivastigmine')\n",
      "('A Prospective, Randomized, Multicenter, Double-Blind, Placebo-Controlled, Parallel-Group Study of the Effect of Rivastigmine on the Time to Clinical Diagnosis of Alzheimer’s Disease in Subjects with Mild Cognitive Impairment (MCI)', 'rivastigmine')\n",
      "('A 24-week Prospective, Randomized, Multicenter, Double-Blind, Placebo-Controlled, Parallel-Group Study of the Efficacy, Tolerability, and Safety of 3-12 mg/day of Rivastigmine Capsules in Patients with Parkinson’s Disease Dementia', 'rivastigmine')\n",
      "(\"A 76-week Prospective, Open-label, Multicenter Study to Evaluate the Long-term Effect of Rivastigmine Capsule and Transdermal Patch on Worsening of the Underlying Motor Symptoms of PD in Patients With Mild to Moderately Severe Dementia Associated With Parkinson's Disease (PDD)\", 'rivastigmine')\n",
      "(\"Efficacy and Safety of the Rivastigmine Transdermal Patch in Patients With Probable Alzheimer's Disease\", 'rivastigmine')\n",
      "('A 48-Week, Multicenter, Randomized, Double-Blind, Parallel-Group Evaluation of the Com-parative Efficacy, Safety, and Tolerability of Exelon® 10 and 15 cm2 Patch in Patients with Alzheimer’s Disease Showing Cognitive Decline during an Initial Open-Label Treatment Phase', 'rivastigmine')\n",
      "(\"A 24 Week, Prospective, Randomized, Parallel-group, Double-blind, Multi-center Study (ENA713DUS44) Comparing the Effects of Rivastigmine Patch 15 cm^2 vs. Rivastigmine Patch 5 cm^2 on ACTivities of Daily Living and CognitION in Patients With Severe Dementia of the Alzheimer's Type (ACTION) and a 24-week Open-label Extension to Study ENA713DUS44\", 'rivastigmine')\n",
      "(\"A 24-Week Efficacy, Safety and Tolerability of Rivastigmine Patch Study in Patients With Probable Alzheimer's Disease\", 'rivastigmine')\n"
     ]
    }
   ],
   "source": [
    "# cur.execute(\"\"\"\n",
    "# SELECT t.StudyTitle FROM trials AS t WHERE (SELECT cui FROM cypher('drug_disorder', $$ MATCH (d:Drug)-[:MAY_TREAT]->(di:Disorder {name: \"Alzheimer's Disease\"}) RETURN d.cui $$) as (cui VARCHAR(25))) = ANY(t.cui);\n",
    "# \"\"\")\n",
    "\n",
    "# cur.execute(\"\"\"\n",
    "# SELECT t.StudyTitle FROM trials AS t, (SELECT cui FROM cypher('drug_disorder', $$ MATCH (d:Drug)-[:MAY_TREAT]->(di:Disorder {name: \"Alzheimer''s Disease\"}) RETURN DISTINCT d.dui $$) as (cui VARCHAR(25))) AS drugs WHERE drugs.cui = ANY(t.cui);\n",
    "# \"\"\")\n",
    "\n",
    "query = \"\"\"\n",
    "WITH drug_for_disorder AS(\n",
    "SELECT * FROM cypher('drug_disorder', $$ MATCH (d:Drug)-[:MAY_TREAT]->(di:Disorder) WHERE di.name = \"Alzheimer's Disease\" RETURN DISTINCT d.cui, d.name $$) as (drug_cui TEXT, drug_name TEXT)\n",
    ")\n",
    "SELECT Trials.StudyTitle, drug_for_disorder.drug_name FROM Trials, drug_for_disorder WHERE drug_for_disorder.drug_cui = ANY(Trials.cui);\n",
    "\n",
    "\"\"\"\n",
    "\n",
    "cur.execute(query)\n",
    "\n",
    "\n",
    "\n",
    "#works\n",
    "# cur.execute(\"\"\"\n",
    "# SELECT t.StudyTitle FROM trials AS t WHERE 'C1948374' = ANY(t.cui);\n",
    "# \"\"\")\n",
    "\n",
    "record = cur.fetchall()\n",
    "\n",
    "for r in record:\n",
    "    print(r)"
   ]
  },
  {
   "cell_type": "code",
   "execution_count": 72,
   "metadata": {},
   "outputs": [
    {
     "name": "stdout",
     "output_type": "stream",
     "text": [
      "('A Multi-Center, Randomized, Double-Blind, Parallel Group Study With 3 Groups Receiving Placebo, 5 mg of E2020 and 10 mg of E2020', 'donepezil')\n",
      "(\"Clinical efficacy and safety of donepezil on cognitive and global function in patients with Alzheimer's disease. A 24-week, multicenter, double-blind, placebo-controlled study in Japan.\", 'donepezil')\n",
      "(\"A Preliminary, Multi-Center, Randomized, Double-Blind, Placebo-Controlled Evaluation of the Safety and Efficacy of E2020 in Patients with Alzheimer's Disease.\", 'donepezil')\n",
      "(\"A 15-week, Multi-Center, Randomized, Double-Blind, Placebo-Controlled Evaluation of the Safety and Efficacy of E2020 in Patients with Alzheimer's Disease.\", 'donepezil')\n",
      "(\"A 30-Week, Multi-Center, Randomized, Double-Blind, Placebo-Controlled Evaluation of the Safety and Efficacy of E2020 in Patients with Alzheimer's Disease.\", 'donepezil')\n",
      "(\"A 30-Week, Multi-Center, Randomized, Double-Blind, Placebo-Controlled Evaluation of the Safety and Efficacy of E2020 in Patients with Alzheimer's Disease.\", 'donepezil')\n",
      "(\"A 24 Week, Multicenter, Randomized, Double-Blind, Placebo-Controlled Evaluation of the Safety and Efficacy of Donepezil Hydrochloride (E2020) in Patients With Severe Alzheimer's Disease Followed by a 12 Week Open-Label Extension Period\", 'donepezil')\n",
      "(\"A Randomized, Double-Blind, Placebo-Controlled Evaluation of the Effects of Donepezil Hydrochloride (E2020) in the Management of Patients with Alzheimer's Disease in a Nursing Home Facility.\", 'donepezil')\n",
      "(\"A 54-week, Randomized, Double-Blind, Placebo-Controlled Evaluation of the Effects of Donepezil Hydrochloride (E2020) on Functional Outcomes in Patients with Alzheimer's Disease.\", 'donepezil')\n",
      "(\"Comparison of 23 mg Donepezil Sustained Release (SR) to 10 mg Donepezil Immediate Release (IR) in Patients With Moderate to Severe Alzheimer's Disease\", 'donepezil')\n",
      "(\"A 24-weeks, Multi-center, Randomized, Double-blind, Placebo Controlled Study to Evaluate the Efficacy and Safety of Donepezil Hydrochloride in Chinese Subjects With Severe Alzheimer's Disease\", 'donepezil')\n",
      "(\"The Efficacy, Tolerability and Safety of Donepezil (Aricept) in Parkinson's Disease Patients With Dementia\", 'donepezil')\n",
      "('Double-blind Study of E2020 in Patients With Dementia With Lewy Bodies - Phase II', 'donepezil')\n",
      "('A Multicenter, Randomized, Double-blind, Parallel-group, Placebo-controlled Study of E2020 in Patients With Dementia With Lewy Bodies (DLB), Followed by a Long-term Extension Phase', 'donepezil')\n",
      "(\"A 24-week, Multicenter, Randomized, Double-blind, Placebo-controlled, Parallel-group, Dose-finding Evaluation of the Efficacy, Safety, and Tolerability of the Once-daily Rivastigmine Transdermal Patch in Patients With Probable Alzheimer's Disease (MMSE 10-20)\", 'rivastigmine')\n",
      "('A Prospective, Randomized, Multicenter, Double-Blind, Placebo-Controlled, Parallel-Group Study of the Effect of Rivastigmine on the Time to Clinical Diagnosis of Alzheimer’s Disease in Subjects with Mild Cognitive Impairment (MCI)', 'rivastigmine')\n",
      "('A 24-week Prospective, Randomized, Multicenter, Double-Blind, Placebo-Controlled, Parallel-Group Study of the Efficacy, Tolerability, and Safety of 3-12 mg/day of Rivastigmine Capsules in Patients with Parkinson’s Disease Dementia', 'rivastigmine')\n",
      "(\"A 76-week Prospective, Open-label, Multicenter Study to Evaluate the Long-term Effect of Rivastigmine Capsule and Transdermal Patch on Worsening of the Underlying Motor Symptoms of PD in Patients With Mild to Moderately Severe Dementia Associated With Parkinson's Disease (PDD)\", 'rivastigmine')\n",
      "(\"Efficacy and Safety of the Rivastigmine Transdermal Patch in Patients With Probable Alzheimer's Disease\", 'rivastigmine')\n",
      "('A 48-Week, Multicenter, Randomized, Double-Blind, Parallel-Group Evaluation of the Com-parative Efficacy, Safety, and Tolerability of Exelon® 10 and 15 cm2 Patch in Patients with Alzheimer’s Disease Showing Cognitive Decline during an Initial Open-Label Treatment Phase', 'rivastigmine')\n",
      "(\"A 24 Week, Prospective, Randomized, Parallel-group, Double-blind, Multi-center Study (ENA713DUS44) Comparing the Effects of Rivastigmine Patch 15 cm^2 vs. Rivastigmine Patch 5 cm^2 on ACTivities of Daily Living and CognitION in Patients With Severe Dementia of the Alzheimer's Type (ACTION) and a 24-week Open-label Extension to Study ENA713DUS44\", 'rivastigmine')\n",
      "(\"A 24-Week Efficacy, Safety and Tolerability of Rivastigmine Patch Study in Patients With Probable Alzheimer's Disease\", 'rivastigmine')\n"
     ]
    }
   ],
   "source": [
    "query = \"\"\"\n",
    "\n",
    "SELECT Trials.StudyTitle, drug_name \n",
    "FROM Trials, cypher('drug_disorder', $$ MATCH (d:Drug)-[:MAY_TREAT]->(di:Disorder) WHERE di.name = \"Alzheimer's Disease\" RETURN DISTINCT d.cui, d.name $$) as (drug_cui TEXT, drug_name TEXT)\n",
    "WHERE drug_cui = ANY(Trials.cui);\n",
    "\n",
    "\"\"\"\n",
    "\n",
    "cur.execute(query)\n",
    "\n",
    "\n",
    "\n",
    "#works\n",
    "# cur.execute(\"\"\"\n",
    "# SELECT t.StudyTitle FROM trials AS t WHERE 'C1948374' = ANY(t.cui);\n",
    "# \"\"\")\n",
    "\n",
    "record = cur.fetchall()\n",
    "\n",
    "for r in record:\n",
    "    print(r)"
   ]
  },
  {
   "cell_type": "code",
   "execution_count": 73,
   "metadata": {},
   "outputs": [
    {
     "name": "stdout",
     "output_type": "stream",
     "text": [
      "('A Multicenter, Randomized, Double-Blind, Phase 3 Study of the Safety and Efficacy of Emulsion Formulation U0267, versus Vehicle in Subjects with Plaque-type Psoriasis', ['C0065767'])\n",
      "('A Phase 3 Multicenter, Randomized, Double-Blind, Active And Vehicle-Controlled Study Of The Safety And Efficacy Of A Clindamycin / Benzoyl Peroxide Gel Versus Clindamycin Gel Versus Benzoyl Peroxide Gel Versus Vehicle Gel In Subjects With Acne Vulgaris', ['C0005088', 'C0055881'])\n",
      "('A Randomized, Double-Blind, Multicenter, Placebo-controlled, Phase III Superiority Study to Assess the Safety and Efficacy of Topical Retapamulin Ointment, 1%, versus Placebo Ointment Applied Twice Daily for 5 Days in the Treatment of Adult and Pediatric Subjects with SITL', ['C1703334'])\n",
      "('A multicenter, randomized, 12 week, double-blind, placebo-controlled, parallel-group, Phase IIa study using 18F fluorodeoxyglucose (FDG)-PET to measure the effects of rilapladib on macrophage activity in subjects with atherosclerosis', ['C2699087'])\n",
      "('A Randomized, Double-Blind, Placebo-Controlled, Phase 2a Proof-of-Concept Study to Evaluate the Efficacy of Maximally Tolerated Doses of Retigabine vs. Placebo in Reducing the Pain Associated with Post-Herpetic Neuralgia', ['C0530684'])\n",
      "('A Phase III, 18 Month, Multicenter, Randomized, Double-Blind, Active-Controlled Clinical Trial to Compare Rosiglitazone versus Glipizide on the Progression of Atherosclerosis in Subjects with Type 2 Diabetes Mellitus and Cardiovascular Disease (APPROACH)', ['C0289313'])\n",
      "('A 96-Week, Phase IV, Randomized, Double-Blind, Multicenter Study of the Safety and Efficacy of EPZICOM Versus TRUVADA Administered in Combination with KALETRA in Antiretroviral-Naive HIV-1 Infected Subjects', ['C0663655'])\n",
      "('A Phase 2a, Multicenter, Randomized, Parallel, Double-Blind, Dose Ranging, Placebo-Controlled Study to Compare Antiviral Effect, Safety, Tolerability and Pharmacokinetics of GSK1349572 Monotherapy Versus Placebo Over 10 days in HIV-1 Infected Adults (ING111521)', ['C3253985'])\n",
      "('A Phase 3, Multi-Center, Randomized, Double-Blind, Placebo-Controlled, 76-Week Study to Evaluate the Efficacy and Safety of Belimumab (HGS1006, LymphoStat-B™), a Fully Human Monoclonal Anti-BLyS Antibody, in Subjects with Systemic Lupus Erythematosus (SLE)', ['C1723401'])\n",
      "('A Phase 3, Multi-Center, Randomized, Double-Blind, Placebo-Controlled, 52-Wk Study to Evaluate the Efficacy and Safety of Belimumab (HGS1006, LymphoStat-B™), a Fully Human Monoclonal Anti-BLyS Antibody, in Subjects With Systemic Lupus Erythematosus (SLE)', ['C1723401'])\n",
      "('A Randomized Double-Blind Parallel Group Study Comparing Casodex (or generic equivalent) 50mg plus Placebo to Casodex (or generic equivalent) 50mg plus dutasteride 3.5mg Administered for 18 months to Men with Prostate Cancer Who Have Failed First-Line Androgen Deprivation Therapy (Assessed by Rising PSA) Followed by a Two-Year Extension Phase', ['C0754659'])\n",
      "('A Randomized, Double-Blind, Placebo-Controlled Evaluation of Valaciclovir for the Prevention of Herpes Simplex Virus (HSV) Transmission in Heterosexual Couples (Double-Blind Phase and Open-Label Suppression Phase)', ['C0249458'])\n",
      "('A Phase III Multicenter, Randomized, Double-blind, Parallel Group Study to Evaluate the Safety and Efficacy of the 30mg Intravenous Formulation of the Neurokinin-1 Receptor Antagonist GW679769 for Prevention of Postoperative Nausea and Vomiting in Female Subjects at High Risk for Emesis', ['C2347566'])\n",
      "('A Phase III, Multicenter, Randomized, Double-blind, Parallel Group Study to Evaluate the Safety and Efficacy of 50mg Oral Dosing with the Neurokinin-1 Receptor Antagonist GW679769 for the Prevention of Postoperative Nausea and Vomiting in Female Subjects at High Risk for Emesis', ['C2347566'])\n",
      "('A Phase I, Randomized, Double-Blind Study to Assess the Effects of Repeat Oral Dosing of Ketoconazole on the Pharmacokinetics of Repeat Oral Dosing of Casopitant [GW679769] in Healthy Subjects', ['C2347566'])\n",
      "('A Randomized, Double-Blind, Placebo-Controlled, Two Year Parallel Group Study of the Efficacy and Safety of Dutasteride GI198745 0.5mg in the Treatment and Prevention of Progression of Benign Prostatic Hyperplasia, Followed by a Two-Year Open-Label Treatment Phase (Report on Year 1 Data)', ['C0754659'])\n",
      "('A Randomized, Double-Blind, Placebo-Controlled, Two Year Parallel Group Study of the Efficacy and Safety of dutasteride GI198745 0.5mg in the Treatment and Prevention of Progression of Benign Prostatic Hyperplasia, Followed by a Two-Year Open-Label Treatment Phase (Report on 2 Year Data).', ['C0754659'])\n",
      "('A Randomized, Double-Blind, Placebo-Controlled, Two-Year Parallel Group Study of the Efficacy and Safety of Dutasteride GI198745 0.5mg in the Treatment and Prevention of Progression of Benign Prostatic Hyperplasia, Followed by a Two-Year Open-Label Treatment Phase (Report on Open-Label Treatment Phase).', ['C0754659'])\n",
      "('A Randomized, Double-Blind, Placebo-Controlled, Two Year Parallel Group Study of the Efficacy and Safety of GI198745 0.5mg in the Treatment and Prevention of Progression of Benign Prostatic Hyperplasia, Followed by a Two-Year Open-Label Treatment Phase (Report on 2 Year Data).', ['C0754659'])\n",
      "('A Randomized, Double-Blind, Placebo-Controlled, Two Year Parallel Group Study of the Efficacy and Safety of GI198745 0.5mg in the Treatment and Prevention of Progression of Benign Prostatic Hyperplasia, Followed by a Two-Year Open-Label Treatment Phase (Report on Open-Label Treatment Phase).', ['C0754659'])\n",
      "('A Randomized, Double-Blind, Placebo-Controlled, Two-Year Parallel-Group Study of the Efficacy and Safety of GI198745 in the Treatment and Modification of Progression of Benign Prostatic Hyperplasia, Followed by a Two Year Open-Label GI198745 Treatment Phase (Report on Open-Label Treatment Phase).', ['C0754659'])\n",
      "('A Phase III, Multicenter, Randomized, Double-blind, Placebo-controlled Safety Study of Xolair (Omalizumab) in Patients With Chronic Idiopathic Urticaria (CIU) Who Remain Symptomatic Despite Treatment With H1 Antihistamines, H2 Blockers, and/or Leukotriene Receptor Antagonists', ['C0966225'])\n",
      "('A Randomized, Double-Blind, Placebo-Controlled, Parallel-Group Evaluation of Sumatriptan 50mg and 100mg Tablets Administered During the Mild Pain Phase of a Menstrually-Associated Migraine Attack', ['C0075632'])\n",
      "('A Phase III, Randomized, Double-Blind, Parallel Group, Placebo Controlled, Multicenter Study to Assess the Efficacy and Safety of the Beta-3 Agonist Mirabegron (25 mg qd and 50 mg qd) in Subjects with Symptoms of Overactive bladder.', ['C2983812'])\n",
      "('A Phase III, Randomized, Double-Blind, Parallel Group, Placebo Controlled, Multicenter Study to Assess the Efficacy and Safety of Mirabegron in Subjects with Symptoms of Overactive Bladder.', ['C2983812'])\n",
      "('A Randomized, Double-Blind, Placebo-Controlled, Multicenter, Parallel-Group Phase 3 Study to Determine the Efficacy and Safety of Retigabine (1200 mg/day) Used as Adjunctive Therapy in Refractory Epilepsy Patients with Partial-Onset Seizures', ['C0530684'])\n",
      "('Randomized, Double-Blind, Placebo-Controlled, Multicenter, Parallel-Group Phase 3 Study - Determine Efficacy and Safety of Two Doses of Retigabine (900 Mg/Day and 600 Mg/Day) Used as Adjunctive Therapy in Refractory Epilepsy Patients with Partial-Onset Seizures', ['C0530684'])\n",
      "('A Phase 2, Double-Blind, Randomized, Placebo and Active-Controlled Dose-Finding Study to Assess the Efficacy, Safety and Tolerability of Multiple Oral Doses of ASP1941 in Subjects with Type 2 Diabetes Mellitus', ['C3492889'])\n",
      "('Phase 2b, Double-Blind, Randomized, Multicenter, Parallel Group, Placebo-Controlled, Dose-Finding Study to Evaluate the Efficacy, Safety and Tolerability of a 12- Week Treatment with ASP1941 in Combination with Metformin in Patients with Type 2 Diabetes Mellitus Who Have Inadequate Glycemic Control on Metformin Alone', ['C3492889'])\n",
      "('A Phase 3b, Multicenter, Randomized, Double-Blind, Placebo-Controlled Study to Evaluate the Effect of Caffeine Intake on Single Photon Emission Computed Tomography (SPECT) Myocardial Perfusion Imaging (MPI) in Subjects Administered Regadenoson', ['C1698215'])\n",
      "('A Phase 1, Double-Blind, Randomized Clinical Study to Assess the Safety, Pharmacokinetics, and Pharmacodynamics of SRT501 in Subjects with Colorectal Cancer and Hepatic Metastases', ['C2002402'])\n",
      "('A Randomized, Double-blind, Double-Dummy, Multicenter, Non-inferiority Phase III Study to Assess the Safety and Efficacy of Topical SB-275833 Ointment, 1%, Applied Twice Daily', ['C1703334'])\n",
      "('A Randomized, Double-Blind, Multi-Center, Placebo-Controlled, Cross-Over Study to Determine the Consistency of Response for TREXIMA™ (sumatriptan 85mg/naproxen sodium 500mg)*, Administered During the Mild Pain Phase for the Acute Treatment of Multiple Migraine Attacks', ['C0075632', 'C0027396'])\n",
      "('A randomized, double-blind, multi-center, placebo-controlled, cross-over study to determine the consistency of response for Trexima* (sumatriptan 85mg/naproxen sodium 500mg) administered during the mild pain phase for the acute treatment of multiple migraine attacks (*Treximet)', ['C0075632', 'C0027396'])\n",
      "('A randomized, double-blind, single migraine attack, placebo -controlled, patallel-group multicenter study to evaluate the efficacy and tolerability or Trexima (sumatriptan succinate/naproxen sodium) tablets vs placebo when administered during the mild pain phase of menstrual migraine in women with dysmenorrhea', ['C0075632', 'C0027396'])\n",
      "('A randomized, double-blind, parallel group, placebo-controlled, single-attack evaluation of the efficacy and tolerability of TREXIMA™ (sumatriptan 85mg/naproxen sodium 500mg)* tablets vs placebo when administered during the mild pain phase of a migraine', ['C0075632', 'C0027396'])\n",
      "('A randomized, double-blind, parallel group, placebo-controlled, single-attack evaluation of the efficacy and tolerability of TREXIMA™ (sumatriptan 85mg/naproxen sodium 500mg)* tablets vs placebo when administered during the mild pain phase of a migraine', ['C0075632', 'C0027396'])\n",
      "('A Randomized, Double-blind, Parallel, Placebo-controlled, Phase 4, Multicenter Study to Assess Efficacy and Safety of VESIcare® (Solifenacin Succinate) to Improve Urinary Continence of Subjects After Robotic Assisted Radical Prostatectomy', ['C1509436'])\n",
      "('A Multicenter, Randomized, Double-Blind, Phase 3 Study of the Safety and Efficacy of Emulsion Formulation U0267 , versus Vehicle Foam in Subjects with Plaque-type Psoriasis', ['C0065767'])\n",
      "('A Phase II Clinical Study of SB-480848 in Dyslipidemic Patients- A multicenter, randomized, double-blind, placebo-controlled study of SB-480848 to evaluate the Efficacy and Safety -', ['C2348075'])\n",
      "('A Randomized, Double-Blind, Placebo-Controlled, Parallel-Group, Phase 4 Study to Assess the Efficacy and Safety of Adjunctive Lovaza® Therapy in Hypertriglyceridemic Subjects Treated with Antara®', ['C1532673'])\n",
      "('A Multicenter, Randomized, Double-Blind, Placebo-Controlled, Phase 3 Trial of Lenvatinib (E7080) in 131I-Refractory Differentiated Thyroid Cancer', ['C2986924'])\n",
      "('A multicenter, randomized, double-blind, placebo-controlled, phase 3 study of single-agent Tarceva® (erlotinib) following complete tumor resection with or without adjuvant chemotherapy in patients with stage IB-IIIA non-small cell lung carcinoma who have EGFR-positive tumors', ['C1135135'])\n",
      "('A phase III, double-blind, randomized study to evaluate safety and efficacy of BAL8557 versus voriconazole for primary treatment of invasive fungal disease caused by Aspergillus species or other filamentous fungi.', ['C4018470'])\n",
      "('A Randomized, Double-blind, Multi-center Phase III Study Comparing Everolimus (RAD001) Plus Best Supportive Care Versus Placebo Plus Best Supportive Care in Patients With Advanced Gastric Cancer After Progression on 1 or 2 Prior Systemic Chemotherapy', ['C0541315'])\n",
      "('A Phase III Randomized, Double-blind, Placebo-controlled, 2-period Crossover, Multicenter Study to Assess the Effect of Indacaterol (300 μg o.d.) on Exercise Endurance in Patients With Moderate to Severe Chronic Obstructive Pulmonary Disease (COPD)', ['C1722260'])\n",
      "('A Phase III, Multicenter, Randomized, Double-blind, Placebo-controlled, Dose-ranging Study to Evaluate the Efficacy and Safety of Xolair® (Omalizumab) in Patients With Chronic Idiopathic Urticaria (CIU)/Chronic Spontaneous Urticaria (CSU) Who Remain Symptomatic Despite Antihistamine Treatment (H1)', ['C0966225'])\n",
      "('A Phase III, Multicenter, Randomized, Double-blind, Dose-ranging, Placebo-controlled Study to Evaluate the Efficacy, Response Duration and Safety of Xolair (Omalizumab) in Patients With Chronic Idiopathic Urticaria (CIU)/Chronic Spontaneous Urticaria Who Remain Symptomatic Despite Antihistamine Treatment (H1)', ['C0966225'])\n",
      "('A 12-month Double-blind, Randomized, Multicenter, Active-controlled, Parallel-group Study Comparing the Efficacy and Safety of 0.5 mg and 1.25 mg Fingolimod (FTY720) Administered Orally Once Daily Versus Interferon ß-1a (Avonex) Administered im Once Weekly in Patients With Relapsing-remitting Multiple Sclerosis With Optional Extension Phase', ['C1699926'])\n",
      "('24-month Double-blind, Randomized, Multicenter, Placebo-controlled, Parallel-group Study Comparing the Efficacy and Safety of 0.5 mg and 1.25 mg Fingolimod (FTY720) Administered Orally Once Daily Versus Placebo in Patients With Relapsing-remitting Multiple Sclerosis With Optional Extension Phase', ['C1699926'])\n",
      "('A Randomized, Multicenter, Double-Blind, Placebo-Controlled, 2-Arm, Phase III Study of Oral GW572016 in Combination with Paclitaxel in Subjects Previously Untreated or Advanced or Metastatic Breast Cancer', ['C1506770'])\n",
      "('A four-week Phase IIa, randomized, double-blind, placebo-controlled, parallel-group, multi-center study to evaluate the safety, efficacy and pharmacokinetics of GSK1278863 in subjects with anemia associated with chronic kidney disease who are not taking recombinant human erythropoietin and are not undergoing dialysis', ['C4519188'])\n",
      "('A Multicenter, Double-Blind, Randomized Placebo-Controlled Phase II Study to Evaluate the Pharmacodynamics, Safety, Tolerability, and PK of Single Doses of the Oral Motilin Receptor Agonist GSK962040, in Type 1 Diabetic Male and Female Patients with Gastroparesis', ['C4519144'])\n",
      "('A double-blind, randomized, placebo controlled Phase II study to evaluate the pharmacodynamics, safety, tolerability, and pharmacokinetics of Single Doses of the Oral Motilin Receptor Agonist GSK962040, in critically ill male and female patients with enteral feed intolerance', ['C4519144'])\n",
      "('A Phase 3, Randomized, Double-Blind, Parallel Group, Placebo and Active Controlled, Multicenter Study to Assess the Efficacy and Safety of Mirabegron (YM178) in Asian Patients with Symptoms of Overactive Bladder', ['C2983812'])\n",
      "('YM178 Phase II study - A Randomized, Double-blind, Parallel-group, Placebo-controlled Study in Patients With Symptomatic Overactive Bladder', ['C2983812'])\n",
      "('A Phase III, Randomized, Double-blind, Triple-dummy, Placebo Controlled, Multicenter, 5-period, Single-dose Complete Block Crossover Study to Determine the Onset of Action of Indacaterol (150 and 300 μg) in Patients With Moderate to Severe COPD Using Salbutamol (200 μg) and Salmeterol/Fluticasone (50/500 μg) as Active Controls', ['C1722260'])\n",
      "('Phase III Study of ASP1941 –A Phase III, Randomized, Double-Blind, Placebo-controlled, Monotherapy Study to Assess the Efficacy, Safety, and Tolerability of ASP1941 in Japanese Patients with Type 2 Diabetes Mellitus–', ['C3492889'])\n",
      "('A 48-Week, Multicenter, Randomized, Double-Blind, Parallel-Group Evaluation of the Com-parative Efficacy, Safety, and Tolerability of Exelon® 10 and 15 cm2 Patch in Patients with Alzheimer’s Disease Showing Cognitive Decline during an Initial Open-Label Treatment Phase', ['C0649350'])\n",
      "('A Phase III international, randomized, double-blind, double-dummy study to evaluate the efficacy and safety of 300 mg or 600 mg of intravenous zanamivir twice daily compared to 75 mg of oral oseltamivir twice daily in the treatment of hospitalized adults and adolescents with influenza', ['C0216660'])\n",
      "('A 4-Week, Phase II, Randomized, Double-Blind, Dose-Ranging, Placebo-Controlled, Parallel-Group, Multi-Center Study to Evaluate the Safety, Efficacy and Pharmacokinetics of GSK1278863 in Japanese Hemodialysis-Dependent Subjects with Anemia Associated with Chronic Kidney Disease', ['C4519188'])\n",
      "('A Phase I, Randomized, Double-Blinded, Placebo- and Moxifloxacin-Controlled, 4-Period Crossover Study to Evaluate the Effect of GSK2140944 on Cardiac Conduction as Assessed by 12-lead Electrocardiogram in Healthy Volunteers', ['C4309999'])\n",
      "('A double-blind, active-controlled, randomized 52-week extended follow-on study to investigate the long-term efficacy and safety of adefovir dipivoxil 10mg and lamivudine 100mg treatment for subjects with hepatitis B who have completed the previous Phase II protocol NUC20904', ['C0209738'])\n",
      "('A randomized, double-blind, placebo-controlled, six-month parallel-group study to assess efficacy and safety of dutasteride 0.5mg once daily in Chinese patients with Benign Prostatic Hyperplasia (BPH), followed by a 12-month open-label treatment phase', ['C0754659'])\n",
      "('A Phase 3, Multi-Center, Randomized, Double-Blind, Placebo-Controlled, 52-Week Study to Evaluate the Efficacy and Safety of Belimumab (HGS1006) Administered Subcutaneously (SC) to Subjects with Systemic Lupus Erythematosus (SLE)', ['C1723401'])\n",
      "('A Phase 1, Randomized, Double-Blind (sponsor open), Placebo-Controlled, Single Dose Escalation Trial to Evaluate the Safety, Tolerability Pharmacokinetics and Pharmacodynamics of GSK3050002 (anti-CCL20 monoclonal antibody) in Healthy Male Volunteers', ['C4705543'])\n",
      "('A Randomized, Placebo-controlled, Double-Blind (Sponsor Unblind), Repeat Dose, Ascending Cohort, Dose Escalation Phase I Study to Evaluate the Pharmacokinetics, Safety, and Tolerability of Epelsiban and its Major Metabolite in Healthy Women Volunteers Following Administration of Repeat Dosing of Epelsiban', ['C3274566'])\n",
      "('A Phase III Randomized, Double-blind Trial Investigating the Activity of Dolutegravir 50 mg BID vs Placebo over 7 Days in HIV-1-infected Subjects with RAL/ELV resistance, Followed by an Open-label Phase with an Optimized Background Regimen', ['C3253985'])\n",
      "('A phase III, 52 week, randomized, double-blind, 3-arm parallel group study, comparing the efficacy, safety and tolerability of the fixed dose triple combination FF/UMEC/VI with the fixed dose dual combinations of FF/VI and UMEC/VI, all administered once-daily in the morning via a dry powder inhaler in subjects with chronic obstructive pulmonary disease', ['C1948374', 'C2935023', 'C3709474'])\n",
      "('A Randomized, Double-Blind, Placebo-Controlled, Multicenter, Phase III Study Comparing GW572016 and Letrozole Versus Letrozole in Subjects With Estrogen/Progesterone Receptor-Positive Advanced or Metastatic Breast Cancer', ['C1506770'])\n",
      "('A Randomized Phase III, Double-Blind, Placebo-Controlled Multicenter Trial of Everolimus in Combination With Trastuzumab and Paclitaxel, as First Line Therapy in Women With HER2 Positive Locally Advanced or Metastatic Breast Cancer', ['C0541315'])\n",
      "('A Randomized Phase III, Double-blind, Placebo-controlled Multicenter Trial of Daily Everolimus in Combination With Trastuzumab and Vinorelbine, in Pretreated Women With HER2/Neu Over-expressing Locally Advanced or Metastatic Breast Cancer', ['C0541315'])\n",
      "('A Randomized, Double-blind, Placebo-controlled, Parallel-group Study With an Open-label Extension Phase to Evaluate the Effect of Perampanel (E2007) on Cognition, Growth, Safety, Tolerability, and Pharmacokinetics When Administered as an Adjunctive Therapy in Adolescents (12 to Less Than 18 Years of Age) With Inadequately Controlled Partial-onset Seizures', ['C2698764'])\n",
      "('A phase III, randomized, double-blind, placebo-controlled multicenter study of subcutaneous secukinumab (150 mg) in pre-filled syringe, with or without loading regimen, to demonstrate efficacy, safety and tolerability up to 2 years in patients with active psoriatic arthritis (FUTURE 4)', ['C3179547'])\n",
      "(\"A Phase 3, Multi-Center, Multinational, Randomized, Double-Blind, Study to Evaluate the Efficacy and Safety of Belimumab (HGS1006) in Combination with Azathioprine for the Maintenance of Remission in Wegener's Granulomatosis and Microscopic Polyangiitis\", ['C1723401'])\n",
      "('A Randomized, Double-blind, Sponsor un-blinded, Placebo-controlled, Phase 2a Crossover Study to Evaluate the Effect of the TRPV4 Channel Blocker, GSK2798745, on Pulmonary Gas Transfer and Respiration in Patients with Congestive Heart Failure', ['C5226839'])\n",
      "('A 2 Year, Double-blind, Randomized, Multicenter, Active-controlled Core Phase to Evaluate Safety & Efficacy of Daily Fingolimod vs Weekly Interferon β-1a im in Pediatric Patients With Multiple Sclerosis and 5 Year Fingolimod Extension Phase', ['C1699926'])\n",
      "('A Phase I, Randomized, Placebo-Controlled, Double-Blind (sponsor unblind), Three Part Study to Evaluate the Safety, Tolerability, Preliminary PK and PD of Single and Repeat Oral Doses of GSK3008356 in Healthy Subjects and Obese Subjects', ['C5433906'])\n",
      "('A Phase 4, Double-Blind, Randomized, Placebo-Controlled, Parallel Group, Multi-Center, Study to Evaluate the Efficacy, Safety, and Tolerability of Mirabegron in Older Adult Subjects with Overactive Bladder (OAB)', ['C2983812'])\n",
      "('A PHASE 3, DOUBLE-BLIND, RANDOMIZED, MULTI-CENTER, PLACEBO-CONTROLLED SEQUENTIAL DOSE TITRATION STUDY TO ASSESS EFFICACY, SAFETY AND POPULATION PHARMACOKINETICS OF SOLIFENACIN SUCCINATE SUSPENSION IN PEDIATRIC SUBJECTS FROM 5 TO LESS THAN 18 YEARS OF AGE WITH OVERACTIVE BLADDER (OAB)', ['C1509436'])\n",
      "('A Randomized, Double-blind, Placebo-controlled, Phase 3 Study of OSI-906 in Patients with Locally Advanced or Metastatic Adrenocortical Carcinoma', ['C2987649'])\n",
      "('A Randomized, Double-blind, Placebo-controlled, Phase 2 Study to Assess the Efficacy, Safety, and Dose-Response Relationship of ASP1707 in Subjects with Endometriosis Associated Pelvic Pain for 12 Weeks, Followed by a 12-Week Double-blind Extension without Placebo Control, Including a 24-Week Open-Label Leuprorelin Acetate Treatment Group for Bone Mineral Density Assessment', ['C5392742'])\n",
      "('A Phase II, Double-blind, Randomized, Multi-center, Adaptive Dose-ranging, Placebo-controlled, Parallel-group Study Evaluating Safety, Tolerability and Efficacy on MRI Lesion Parameters and Determining the Dose Response Curve of BAF312 Given Orally Once Daily in Patients With Relapsing-remitting Multiple Sclerosis', ['C3657824'])\n",
      "('A Phase 2, Double-Blind, Randomized, Placebo Controlled Study to Evaluate the Efficacy and Safety of ASP8232 as Add-On Therapy to Angiotensin Converting Enzyme inhibitor (ACEi) or Angiotensin Receptor Blocker (ARB) in Reducing Albuminuriain Patients with Type 2 Diabetes and Chronic Kidney Disease', ['C5198358'])\n",
      "('A Phase 4, Double-blind, Randomized, Placebo-controlled, Multicenter Study to Evaluate the Efficacy, Safety and Tolerability of Mirabegron in Men with Overactive Bladder (OAB) Symptoms While Taking the Alpha Blocker Tamsulosin Hydrochloride for Lower Urinary Tract Symptoms (LUTS) due to Benign Prostatic Hyperplasia (BPH)', ['C2983812'])\n",
      "('A Phase 3, Double-blind, Randomized Study to Assess the Efficacy and Safety of Ipragliflozin in Combination with Metformin Compared to Metformin Plus Placebo in Subjects in Russia with Type 2 Diabetes Mellitus Who Have Inadequate Glycemic Control on Metformin', ['C3492889'])\n",
      "('A phase 2, randomized, double-blind, placebo-controlled, parallel group, adaptive, combined proof of concept and dose-finding study to investigate efficacy, safety, pharmacodynamics and pharmacokinetics of ASP3652 in the treatment of female subjects with Bladder Pain Syndrome / Interstitial Cystitis', ['C5565723'])\n",
      "('A Phase 2a, Randomized, Double-Blind, Placebo-Controlled, Sequential Group, Multiple-Dose Escalation Study to Evaluate the Efficacy and Safety of ASP015K in Subjects with Moderate to Severe Plaque Psoriasis', ['C5418498'])\n",
      "('A phase III study (a placebo controlled, randomized, double-blind comparative study and an open-label, uncontrolled study) to evaluate the efficacy and safety of GSK1358820 in patients with post-stroke upper limb spasticity', ['C2719767'])\n",
      "('A Phase 4, Double-blind, Randomized, Placebo-controlled Multicenter Study to Evaluate the Efficacy and Safety of Mirabegron in Japanese and Korean Male Patients with Overactive Bladder under Treatment with the α-Blocker Tamsulosin for Benign Prostatic Hyperplasia', ['C2983812'])\n",
      "('A Phase III, Double-Blind, Randomized Study to Evaluate the Safety and Efficacy of BAL8557 Versus a Caspofungin Followed by Voriconazole Regimen in the Treatment of Candidemia and Other Invasive Candida Infections', ['C4018470'])\n",
      "('Randomized, Double-blind, Multicenter, Phase III Study Comparing the Efficacy and Safety of Retosiban Versus Placebo for Women in Spontaneous Preterm Labor', ['C2699069'])\n",
      "('Randomized, Double-blind, Multicenter, Phase III Study Comparing the Efficacy and Safety of Retosiban Versus Atosiban Therapy for Women in Spontaneous Preterm Labor', ['C2699069'])\n",
      "('Phase 3 Study of ASP015K - A Randomized, Double-blind, Placebo-controlled Confirmatory Study of the Safety and Efficacy of ASP015K in Patients With Rheumatoid Arthritis Who Had an Inadequate Response to DMARDs -', ['C5418498'])\n",
      "('Phase 3 Study of ASP015K - A Randomized, Double-blind, Placebo-controlled Confirmatory Study of the Efficacy and Safety of ASP015K in Patients With Rheumatoid Arthritis Who Had an Inadequate Response to MTX -', ['C5418498'])\n",
      "('A randomized, placebo-controlled, double-blind, parallel group phase 2a study of ASP1707 in postmenopausal female patients with rheumatoid arthritis (RA) taking methotrexate (MTX)', ['C5392742'])\n",
      "('A Phase III, Randomized, Double-blinded Study Comparing the Combination of the BRAF Inhibitor, Dabrafenib and the MEK Inhibitor, Trametinib to Dabrafenib and Placebo as First-line Therapy in Subjects With Unresectable (Stage IIIC) or Metastatic (Stage IV) BRAF V600E/K Mutation-positive Cutaneous Melanoma', ['C3467876'])\n",
      "('A Phase IIb, 24 week, randomized, double-blind, 3 arm parallel group study, comparing the efficacy, safety and tolerability of two doses of umeclidinium bromide administered once-daily via a dry powder inhaler, versus placebo, in participants with asthma', ['C1948374', 'C2935023', 'C3709474'])\n",
      "('A phase II randomized, double-blind placebo controlled, study of letrozole with or without BYL719 or buparlisib, for the neoadjuvant treatment of postmenopausal women with hormone receptor-positive HER2-negative breast cancer', ['C4055478'])\n",
      "('A Phase 3, Multicenter, Double-Blind, Randomized, Parallel-group, Placebo-Controlled Study to Assess the Efficacy and Safety of ASP1941 in Subjects With Type 2 Diabetes Mellitus Who Have Inadequate Glycemic Control on Metformin and Sitagliptin', ['C3492889'])\n",
      "('A 24-week, Phase III randomized, double-blind, placebo-controlled, parallelgroup, multicenter study of Xolair® (omalizumab) in patients with moderate to severe persistent allergic asthma who remain not adequately controlled despite GINA (2009) Step 4 therapy', ['C0966225'])\n",
      "('A Phase III, randomized, double-blind, active controlled, parallel group study, comparing the efficacy, safety and tolerability of the fixed dose combination FF/UMEC/VI with the fixed dose dual combination of FF/VI, administered once-daily via a dry powder inhaler in subjects with inadequately controlled asthma', ['C1948374', 'C2935023', 'C3709474'])\n",
      "('A Multicenter, Randomized, Double-blind, Parallel-group, Placebo-controlled Study of E2020 in Patients With Dementia With Lewy Bodies (DLB), Followed by a Long-term Extension Phase', ['C0527316'])\n",
      "('A randomized Phase III, double-blind, placebo-controlled, multi-center study to evaluate the efficacy and safety of everolimus (RAD001) in adult patients with advanced hepatocellular carcinoma after failure of sorafenib treatment¿ the EVOLVE-1 Study', ['C0541315'])\n",
      "('A Phase II Multicenter, Randomized, Placebo-Controlled, Double-Blind, 12-Month Study to Assess Safety and Efficacy of SelG1 With or Without Hydroxyurea Therapy in Sickle Cell Disease Patients with Sickle Cell-Related Pain Crises, (SUSTAIN)', ['C4524703'])\n",
      "('A Phase IIb, Randomized (Stratified), Double-Blind (Sponsor Open), Parallel-Group, Placebo-Controlled, Dose-Finding Study of Nemiralisib (GSK2269557) Added to Standard of Care (SoC) Versus SoC Alone in Participants Diagnosed with an Acute Moderate or Severe Exacerbation of Chronic Obstructive Pulmonary Disease (COPD)', ['C5197976'])\n",
      "('A Randomized, Double-Blind, Placebo-Controlled Multicenter Phase II Study to Evaluate the Safety and Efficacy and Dose Response of 28 Days of Once-Daily Dosing of the Oral Motilin Receptor Agonist GSK962040, in Type I and II Diabetic Male and Female Subjects with Gastroparesis', ['C4519144'])\n",
      "('A randomized, double-blind, placebo-controlled, multicenter phase III study in patients with advanced carcinoid tumor receiving Sandostatin LAR® Depot and RAD001 10 mg/d or San-dostatin LAR® Depot and placebo', ['C0541315'])\n",
      "('A randomized double-blind phase III study of everolimus 10 mg/d plus best supportive care (BSC) versus placebo plus best supportive care in the treatment of patients with advanced pancreatic neuro-endocrine tumor (NET)', ['C0541315'])\n",
      "('A Phase 3/4, Multi-Center, Randomized, Double-Blind, Placebo-Controlled, 52-Week Study to Evaluate the Efficacy and Safety of Belimumab (HGS1006) in Adult Subjects of Black Race with Systemic Lupus Erythematosus (SLE)', ['C1723401'])\n",
      "('A Phase I; Multi-Center; Open-Label (Parts 1 and 2); Randomized, Double-Blind, Placebo-Controlled (Part 3); Single-Dose; 3-Part Study to Evaluate the Relative Bioavailability of Three Formulations in Healthy Subjects, Food Effect on Tablet Formulation in Healthy Subjects, and Pharmacokinetics of Gepotidacin (GSK2140944) in Japanese Subjects in Fasted and Fed States', ['C4309999'])\n",
      "('A Phase 3, Randomized, Double-Blind, Placebo-Controlled Study to Evaluate the Efficacy and Safety of Belimumab plus Standard of Care versus Placebo plus Standard of Care in Adult Subjects with Active Lupus Nephritis', ['C1723401'])\n"
     ]
    }
   ],
   "source": [
    "cur.execute(\"\"\"\n",
    "SELECT StudyTitle, cui FROM Trials WHERE StudyTitle_Tokens @@ to_tsquery('english', 'double-blind & randomize & phase');\n",
    "\"\"\")\n",
    "\n",
    "record = cur.fetchall()\n",
    "\n",
    "for r in record:\n",
    "    print(r)"
   ]
  },
  {
   "cell_type": "code",
   "execution_count": 74,
   "metadata": {},
   "outputs": [
    {
     "name": "stdout",
     "output_type": "stream",
     "text": [
      "('A Randomized, Double-blind, Double-dummy, Placebo-controlled, Crossover Study to Evaluate the Efficacy of TREXIMET® (Sumatriptan + Naproxen Sodium) vs. Butalbital-containing Combination Medications for the Acute Treatment of Migraine when administered during the Moderate-Severe Migraine Pain, 1 of 2', 'Ankylosing spondylitis', 'naproxen')\n",
      "('A Crossover, Randomized, Double-blind, Double-dummy, Placebo-controlled Study to Evaluate the Efficacy of TREXIMET®/Sumatriptan + Naproxen Sodium vs. Butalbital-containing Combination Medications for the Acute Treatment of Migraine when administered during Moderate-Severe Migraine Pain, 2 of 2', 'Ankylosing spondylitis', 'naproxen')\n",
      "('Assessment of the effect of sumatriptan and naproxen sodium combination tablet, sumatriptan tablet, and naproxen sodium tablet treatment on blood pressure when administered intermittently for six months for the acute treatment of migraine attacks, with or without aura, in adults', 'Ankylosing spondylitis', 'naproxen')\n",
      "('A randomized, double-blind, placebo-controlled, parallel-group study to evaluate the efficacy and tolerability of TREXIMA* (sumatriptan succinate/naproxen sodium) for a single moderate or severe headache in adults diagnosed with probable migraine without aura (ICHD-II 1.6.1) (*TREXIMET)', 'Ankylosing spondylitis', 'naproxen')\n",
      "('Open-Label, Placebo-Controlled, Parallel Group Study in Healthy Volunteers to Evaluate the Effects of MT 400 Tablets or Naproxen Sodium Tablets on Chromosomal Aberrations (CA) in Peripheral Blood Lymphocytes', 'Ankylosing spondylitis', 'naproxen')\n",
      "('A study to evaluate the bioavailability of combo formulation, each of its components and currently marketed versions of the components in healthy volunteers.', 'Ankylosing spondylitis', 'naproxen')\n",
      "('A study to evaluate the effect of food on the bioavailability of a sumatriptan succinate and naproxen sodium combination tablet in healthy volunteers.', 'Ankylosing spondylitis', 'naproxen')\n",
      "('A study to evaluate the bioavailability of different dose combinations of sumatriptan succinate and naproxen sodium 500 mg in healthy volunteers.', 'Ankylosing spondylitis', 'naproxen')\n",
      "('An open-label study to investigate the effect of migraine attacks on the pharmacokinetics of a single dose of Treximet™ (formerly known as Trexima™) administered both during and outside of a migraine attack', 'Ankylosing spondylitis', 'naproxen')\n",
      "('A study to evaluate the pharmacokinetics and tolerability of two single Treximet™ (formerly known as Trexima™) tablets (administered two hours apart) in healthy volunteers.', 'Ankylosing spondylitis', 'naproxen')\n",
      "('TXA107979: A Randomized, Multicenter, Placebo-Controlled, Parallel Group Study to Evaluate the Efficacy and Safety of a Combination Product Containing Sumatriptan and Naproxen Sodium for the Acute Treatment of Migraine in Adolescents', 'Ankylosing spondylitis', 'naproxen')\n",
      "('Study TXA107977, a Long-Term Safety Study of a Combination Product Containing Sumatriptan Succinate and Naproxen Sodium for the Treatment of Migraine in Adolescents', 'Ankylosing spondylitis', 'naproxen')\n",
      "('An open-label, randomized, 3-period crossover study to evaluate sumatriptan pharmacokinetics for a TREXIMA™ (sumatriptan succinate / naproxen sodium) Tablet followed by IMITREX® (sumatriptan succinate) Injection 4mg administered using the IMITREX STATdose System® and a TREXIMA tablet followed by IMI', 'Ankylosing spondylitis', 'naproxen')\n",
      "('A Study of Combination Product (sumatriptan succinate and naproxen sodium) in Migraine Subjects Who Report Poor Response or Intolerance to Short Acting Triptans (Study 1 of 2)', 'Ankylosing spondylitis', 'naproxen')\n",
      "('A Study of Combination Product (sumatriptan succinate and naproxen sodium) in Migraine Subjects Who Report Poor Response or Intolerance to Short Acting Triptans (Study 2 of 2)', 'Ankylosing spondylitis', 'naproxen')\n",
      "('A Randomized, Double-Blind, Multi-Center, Placebo-Controlled, Cross-Over Study to Determine the Consistency of Response for TREXIMA™ (sumatriptan 85mg/naproxen sodium 500mg)*, Administered During the Mild Pain Phase for the Acute Treatment of Multiple Migraine Attacks', 'Ankylosing spondylitis', 'naproxen')\n",
      "('A randomized, double-blind, multi-center, placebo-controlled, cross-over study to determine the consistency of response for Trexima* (sumatriptan 85mg/naproxen sodium 500mg) administered during the mild pain phase for the acute treatment of multiple migraine attacks (*Treximet)', 'Ankylosing spondylitis', 'naproxen')\n",
      "('An Open Label, Single Dose, Parallel Group Study to Evaluate Absorption and Transit Characteristics of TREXIMA and RELPAX in Patients Inside and Outside of an Acute Migraine Attack.', 'Ankylosing spondylitis', 'naproxen')\n",
      "('A randomized, double-blind, single migraine attack, placebo -controlled, patallel-group multicenter study to evaluate the efficacy and tolerability or Trexima (sumatriptan succinate/naproxen sodium) tablets vs placebo when administered during the mild pain phase of menstrual migraine in women with dysmenorrhea', 'Ankylosing spondylitis', 'naproxen')\n",
      "('See Detailed Description', 'Ankylosing spondylitis', 'naproxen')\n",
      "('A randomized, double-blind, parallel group, placebo-controlled, single-attack evaluation of the efficacy and tolerability of TREXIMA™ (sumatriptan 85mg/naproxen sodium 500mg)* tablets vs placebo when administered during the mild pain phase of a migraine', 'Ankylosing spondylitis', 'naproxen')\n",
      "('A randomized, double-blind, parallel group, placebo-controlled, single-attack evaluation of the efficacy and tolerability of TREXIMA™ (sumatriptan 85mg/naproxen sodium 500mg)* tablets vs placebo when administered during the mild pain phase of a migraine', 'Ankylosing spondylitis', 'naproxen')\n",
      "('A Double-Blind, Multicenter, Randomized, Placebo-Controlled Single Dose Study to Evaluate the Safety and Efficacy of TREXIMA™* in the Acute Treatment of Migraine Headaches', 'Ankylosing spondylitis', 'naproxen')\n",
      "('A Double-Blind, Multicenter, Randomized, Placebo-Controlled Single Dose Study to Evaluate the Safety and Efficacy of TREXIMA™*in the Acute Treatment of Migraine Headaches', 'Ankylosing spondylitis', 'naproxen')\n",
      "('An Open-Label, Repeat Dose Study of the Safety of Combo Formulation in the Treatment of Multiple Episodes of Acute Migraine Over 12 Months.', 'Ankylosing spondylitis', 'naproxen')\n",
      "('An open-label, randomized, single-dose, 2-period crossover study to evaluate sumatriptan pharmacokinetics for a TREXIMA™(sumatriptan 85mg and naproxen sodium 500mg)*, Tablet compared with an IMITREX® (sumatriptan) 100mg Tablet', 'Ankylosing spondylitis', 'naproxen')\n",
      "('A Randomized, Double-blind, Placebo Controlled, Multicenter Regimen Finding Study of Subcutaneously Administered AIN457, Assessing Psoriasis Area and Severity Index (PASI) Response in Patients With Moderate to Severe Chronic Plaque-type Psoriasis', 'Ankylosing spondylitis', 'secukinumab')\n",
      "('A Randomized, Double-blind, Placebo Controlled, Multicenter Dose Ranging Study of Subcutaneously Administered AIN457, Assessing Psoriasis Area and Severity Index (PASI) Response in Patients With Moderate to Severe Chronic Plaque-type Psoriasis', 'Ankylosing spondylitis', 'secukinumab')\n",
      "('A Randomized, Double-blind, Placebo Controlled, Multicenter Study of Subcutaneous Secukinumab to Demonstrate Efficacy After Twelve Weeks of Treatment, and to Assess the Safety, Tolerability and Long-term Efficacy up to One Year in Subjects With Moderate to Severe Chronic Plaque-type Psoriasis', 'Ankylosing spondylitis', 'secukinumab')\n",
      "('A Randomized, Double-blind, Double-dummy, Placebo Controlled, Multicenter Study of Subcutaneous Secukinumab to Demonstrate Efficacy After Twelve Weeks of Treatment, Compared to Placebo and Etanercept, and to Assess the Safety, Tolerability and Long-term Efficacy up to One Year in Subjects With Moderate to Severe Chronic Plaque-type Psoriasis', 'Ankylosing spondylitis', 'secukinumab')\n",
      "('A randomized, double-blind, multicenter study of subcutaneous secukinumab, assessing Psoriasis Area and Severity Index (PASI) response and maintenance of response in subjects with moderate to severe chronic plaque-type psoriasis on either a fixed dose regimen or on a retreatment at start of relapse regimen Study Comparing secukinumab Use in Long-term Psoriasis maintenance therapy: fixed regimens vs reTreatment Upon start of RElapse (SCULPTURE', 'Ankylosing spondylitis', 'secukinumab')\n",
      "('A randomized, double-blind, double dummy, multicenter study to assess the safety, tolerability and long-term efficacy of intravenous (10 mg/kg) and subcutaneous (300 mg) secukinumab in patients with moderate to severe chronic plaque-type psoriasis who are partial responders to secukinumab Secukinumab Trial Analyzing the potential of intravenous administration To Upgrade the REsponse in psoriasis (STATURE)', 'Ankylosing spondylitis', 'secukinumab')\n",
      "('A randomized, double-blind, placebo controlled, multicenter study of subcutaneous secukinumab in prefilled syringes to demonstrate efficacy after twelve weeks of treatment, and to assess the safety, tolerability, usability and long-term efficacy in subjects with chronic plaque-type psoriasis', 'Ankylosing spondylitis', 'secukinumab')\n",
      "('A randomized, double-blind, placebo controlled, multicenter study of subcutaneous secukinumab in autoinjectors to demonstrate efficacy after twelve weeks of treatment, and to assess the safety, tolerability, usability and long-term efficacy in subjects with chronic plaque-type psoriasis', 'Ankylosing spondylitis', 'secukinumab')\n",
      "('A Randomized, Double-blind, Placebo-controlled, Multicenter Study of Secukinumab to Demonstrate the Efficacy at 24 Weeks and to Assess the Long Term Safety, Tolerability and Efficacy up to 2 Years in Patients With Active Psoriatic Arthritis', 'Ankylosing spondylitis', 'secukinumab')\n",
      "('Efficacy at 24 Weeks With Long Term Safety, Tolerability and Efficacy up to 5 Years of Secukinumab in Patients of Active Psoriatic Arthritis (FUTURE 2)', 'Ankylosing spondylitis', 'secukinumab')\n",
      "('A Randomized, Double-blind, Placebo-controlled, Multicenter Study of Secukinumab to Demonstrate the 16 Week Efficacy and to Assess the Long Term Safety, Tolerability and Efficacy up to 2 Years in Patients With Active Ankylosing Spondylitis', 'Ankylosing spondylitis', 'secukinumab')\n",
      "('A phase III, randomized, double-blind, placebo-controlled multicenter study of subcutaneous secukinumab (150 mg) in pre-filled syringe, with or without loading regimen, to demonstrate efficacy, safety and tolerability up to 2 years in patients with active psoriatic arthritis (FUTURE 4)', 'Ankylosing spondylitis', 'secukinumab')\n",
      "('A 52-week, multicenter, randomized, double-blind study of subcutaneous secukinumab to demonstrate efficacy as assessed by Psoriasis Area and Severity Index at 16 weeks of treatment compared to ustekinumab and to assess long-term safety, tolerability and efficacy in subjects with moderate to severe plaque psoriasis (CLEAR)', 'Ankylosing spondylitis', 'secukinumab')\n",
      "('A 52-week, randomized, double-blind study of secukinumab (300 mg) compared to ustekinumab in subjects with moderate to severe plaque psoriasis', 'Ankylosing spondylitis', 'secukinumab')\n",
      "('A randomized, double-blind, placebo-controlled, multicenter study to demonstrate the efficacy at 16 weeks of secukinumab 150 and 300 mg s.c. and to assess safety, tolerability and long-term efficacy up to 132 weeks in subjects with moderate to severe palmoplantar psoriasis', 'Ankylosing spondylitis', 'secukinumab')\n",
      "('A randomized, double-blind, placebo-controlled, multicenter, study to demonstrate the efficacy at 16 weeks of secukinumab 150 and 300 mg s.c. and to assess safety, tolerability and long-term efficacy up to 132 weeks in subjects with moderate to severe nail psoriasis', 'Ankylosing spondylitis', 'secukinumab')\n",
      "('A randomized, double-blind, placebo-controlled study of secukinumab to demonstrate the efficacy at 24 weeks and to assess the safety, tolerability and long term efficacy up to 2 years in patients with active rheumatoid arthritis who have an inadequate response to anti-TNF¿ agents (CAIN457F2302) and a three year extension study to evaluate the long term efficacy, safety and tolerability of secukinumab in patients with active rheumatoid arthritis (CAIN457F2302E1)', 'Ankylosing spondylitis', 'secukinumab')\n",
      "('Efficacy and Safety of 2 Secukinumab Regimens in 90kg or More Weight Group With Moderate/Severe Chronic Plaque Psoriasis', 'Ankylosing spondylitis', 'secukinumab')\n",
      "('A randomized, double-blind, active control, multicenter study to evaluate the efficacy at week 52 of secukinumab monotherapy compared with adalimumab monotherapy in patients with active psoriatic arthritis', 'Ankylosing spondylitis', 'secukinumab')\n",
      "('A randomized, double-blind, placebo-controlled, parallel-group, multicenter study to demonstrate the efficacy of subcutaneous secukinumab 300 mg as assessed by the Psoriasis Scalp Severity Index (PSSI) at 12 weeks of treatment, compared to placebo, and to assess safety and tolerability up to 24 weeks in adult subjects with moderate to severe scalp psoriasis', 'Ankylosing spondylitis', 'secukinumab')\n",
      "('Study to Demonstrate the Efficacy (Including Inhibition of Structural Damage), Safety and Tolerability up to 2 Years of Secukinumab in Active Psoriatic Arthritis (FUTURE5)', 'Ankylosing spondylitis', 'secukinumab')\n",
      "('Study to Explore the Effect of Secukinumab, Compared to Placebo, on Fat Tissue and Skin in Plaque Psoriasis Patients (ObePso-S)', 'Ankylosing spondylitis', 'secukinumab')\n",
      "('Secukinumab in Tumor Necrosis Factor (TNF) - Inadequate Response (IR) Psoriasis Participants. (SIGNATURE)', 'Ankylosing spondylitis', 'secukinumab')\n",
      "('Multiple-loading Dose Regimen Study in Patients With Chronic Plaque-type Psoriasis', 'Ankylosing spondylitis', 'secukinumab')\n",
      "('Evaluation of Cardiovascular Risk Markers in Psoriasis Patients Treated With Secukinumab (CARIMA)', 'Ankylosing spondylitis', 'secukinumab')\n",
      "('Study to Evaluate the Effect of Secukinumab Compared to Placebo on Aortic Vascular Inflammation in Subjects With Moderate to Severe Plaque Psoriasis (VIP-S)', 'Ankylosing spondylitis', 'secukinumab')\n",
      "('Study of Secukinumab With 2 mL Pre-filled Syringes (ALLURE)', 'Ankylosing spondylitis', 'secukinumab')\n",
      "('Study of Efficacy and Safety of Secukinumab in Subjects With Moderate to Severe Chronic Plaque-type Psoriasis', 'Ankylosing spondylitis', 'secukinumab')\n",
      "('Study of Efficacy and Safety of Secukinumab 2 mL Auto-injector (300 mg) in Subjects With Moderate to Severe Plaque Psoriasis (MATURE)', 'Ankylosing spondylitis', 'secukinumab')\n",
      "('Study of Secukinumab Compared to Fumaderm® in Adults With Moderate to Severe Psoriasis. (PRIME)', 'Ankylosing spondylitis', 'secukinumab')\n",
      "('Study of Efficacy and Safety of Secukinumab in Patients With Non-radiographic Axial Spondyloarthritis (PREVENT)', 'Ankylosing spondylitis', 'secukinumab')\n",
      "('SKIPPAIN - Speed of Onset of SecuKinumab-Induced Relief From Pain in Patients With AxIal SpoNdyloarthritis (SKIPPAIN)', 'Ankylosing spondylitis', 'secukinumab')\n",
      "('16 Week Efficacy and 5 Year Long Term Efficacy, Safety and Tolerability of Secukinumab in Patients With Active Ankylosing Spondylitis (MEASURE2)', 'Ankylosing spondylitis', 'secukinumab')\n",
      "('16-week Efficacy and 3-year Safety, Tolerability and Efficacy of Secukinumab in Active Ankylosing Spondylitis Patients (MEASURE 3)', 'Ankylosing spondylitis', 'secukinumab')\n",
      "('Secukinumab Safety and Efficacy in Juvenile Psoriatic Arthritis (JPsA) and Enthesitis-related Arthritis (ERA)', 'Ankylosing spondylitis', 'secukinumab')\n",
      "('16-week Efficacy and 2-year Safety, Tolerability and Efficacy of Secukinumab in Participants With Active Ankylosing Spondylitis (MEASURE4)', 'Ankylosing spondylitis', 'secukinumab')\n",
      "('A Multicenter, Double-blind, Randomized, Placebo-controlled, Parallel-group Study to Assess the Efficacy and Safety of CDP870 in Patients With Early-stage Rheumatoid Arthritis Who Are Naïve to Methotrexate and Have Poor Prognostic Factors', 'Ankylosing spondylitis', 'certolizumab pegol')\n"
     ]
    }
   ],
   "source": [
    "question = \"joint-related disorders\"\n",
    "\n",
    "question_embedding = get_embedding(question)\n",
    "\n",
    "cur.execute(f\"\"\"\n",
    "WITH joint_related_disorders AS (\n",
    "    SELECT cui FROM Disorder_vector ORDER BY definitionEmbedding <=> '{question_embedding}' LIMIT 10\n",
    "), drug_for_disorder AS (\n",
    "    SELECT * FROM cypher('drug_disorder', $$ MATCH (d:Drug)-[:MAY_TREAT]->(di:Disorder) RETURN DISTINCT d.cui, d.name, di.cui, di.name $$) as (drug_cui TEXT, drug_name TEXT, disorder_cui TEXT, disorder_name TEXT)\n",
    ")\n",
    "\n",
    "SELECT Trials.StudyTitle, drug_for_disorder.disorder_name , drug_for_disorder.drug_name FROM Trials, joint_related_disorders, drug_for_disorder WHERE joint_related_disorders.cui = drug_for_disorder.disorder_cui AND drug_for_disorder.drug_cui = ANY(Trials.cui);\n",
    "\"\"\")\n",
    "\n",
    "record = cur.fetchall()\n",
    "\n",
    "for r in record:\n",
    "        print(r)"
   ]
  },
  {
   "cell_type": "code",
   "execution_count": 76,
   "metadata": {},
   "outputs": [],
   "source": [
    "connection.commit()"
   ]
  },
  {
   "cell_type": "code",
   "execution_count": null,
   "metadata": {},
   "outputs": [],
   "source": []
  }
 ],
 "metadata": {
  "kernelspec": {
   "display_name": "postgres",
   "language": "python",
   "name": "python3"
  },
  "language_info": {
   "codemirror_mode": {
    "name": "ipython",
    "version": 3
   },
   "file_extension": ".py",
   "mimetype": "text/x-python",
   "name": "python",
   "nbconvert_exporter": "python",
   "pygments_lexer": "ipython3",
   "version": "3.11.9"
  }
 },
 "nbformat": 4,
 "nbformat_minor": 2
}
